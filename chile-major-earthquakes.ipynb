{
 "cells": [
  {
   "cell_type": "markdown",
   "metadata": {
    "tags": []
   },
   "source": [
    "# Analyzing Chile's Major Earthquakes"
   ]
  },
  {
   "cell_type": "markdown",
   "metadata": {},
   "source": [
    "In this project, we __import, clean and do statistical analysis__ of Chile's earthquake data from [Centro Sismológico Nacional](https://www.csn.uchile.cl) (CSN). There are two main datasets: _Chile's major earthquakes_ (magnitude Ms greater or equal to 7) and _Chile's significant earthquake_ events (with magnitude Ms greater or equal to 3). Here we analyze the first dataset of major earthquakes, which includes events from the year 1570 till 2020."
   ]
  },
  {
   "cell_type": "markdown",
   "metadata": {
    "tags": []
   },
   "source": [
    "## Methods"
   ]
  },
  {
   "cell_type": "markdown",
   "metadata": {
    "heading_collapsed": "true",
    "tags": []
   },
   "source": [
    "### Data Wrangling\n",
    "\n",
    "Our major technical challenge here is to scrape HTML data from the CSN website. There are many ways to do this, but we will use the library `BeautifulSoup4` to achieve this. We will then use different ways to transform HTML data into pandas tables. In particular, section 2 downloads tables from multiple HTML sites and joins them into one dataframe.  "
   ]
  },
  {
   "cell_type": "markdown",
   "metadata": {
    "heading_collapsed": "true",
    "tags": []
   },
   "source": [
    "### Data Visualization\n",
    "\n",
    "We shall use `matplotlib` and `seaborn` for graphics and `folium` ([site](https://python-visualization.github.io/folium/index.html)) to show the geolocation of major earthquakes."
   ]
  },
  {
   "cell_type": "markdown",
   "metadata": {},
   "source": [
    "### Statistical Analysis\n",
    "\n",
    "We analyze the __Distribution of Major Earthquakes in Time__ and __Distributions of Earthquake Magnitudes in Time and Space__. We compare different distributions and find out that the number of events per year is well-described by a _negative binomial distribution_, verified using histograms and cumulative distributions. We use bootstrap samples and hypothesis testing to verify that the number of earthquakes per month is close to be uniformly distributed. Finally, we also do exploratory data analysis of event magnitudes as functions of time and space."
   ]
  },
  {
   "cell_type": "markdown",
   "metadata": {
    "heading_collapsed": "true",
    "tags": []
   },
   "source": [
    "## 1. Importing HTML data"
   ]
  },
  {
   "cell_type": "markdown",
   "metadata": {},
   "source": [
    "Let us import all necessary libraries first."
   ]
  },
  {
   "cell_type": "code",
   "execution_count": 1,
   "metadata": {},
   "outputs": [],
   "source": [
    "import numpy as np\n",
    "import pandas as pd\n",
    "import requests\n",
    "from bs4 import BeautifulSoup\n",
    "import matplotlib.pyplot as plt\n",
    "import seaborn as sns\n",
    "\n",
    "sns.set()"
   ]
  },
  {
   "cell_type": "markdown",
   "metadata": {},
   "source": [
    "Then, our first task is to import the HTML data using `BeautifulSoup4`."
   ]
  },
  {
   "cell_type": "code",
   "execution_count": 2,
   "metadata": {
    "tags": []
   },
   "outputs": [],
   "source": [
    "# URL to be imported\n",
    "url = 'https://www.csn.uchile.cl/sismologia/grandes-terremotos-en-chile/'\n",
    "# Open a URL request\n",
    "r = requests.get(url)\n",
    "# Get HTML text\n",
    "html_doc = r.text\n",
    "# Create a BeautifulSoup object to extract HTML data using Tags\n",
    "soup = BeautifulSoup(html_doc)"
   ]
  },
  {
   "cell_type": "markdown",
   "metadata": {},
   "source": [
    "There is only one HTML table in this URL and we want to transform it into a DataFrame. In HTML, `tr` stands for “table row”, `th` stands for “table header” and `td` stands for “table data”, which is where the data is stored as text. The solution presented here is from [this blog post](https://towardsdatascience.com/a-guide-to-scraping-html-tables-with-pandas-and-beautifulsoup-7fc24c331cf7)."
   ]
  },
  {
   "cell_type": "code",
   "execution_count": 3,
   "metadata": {},
   "outputs": [],
   "source": [
    "# Implement a loop to fill table's rows\n",
    "rows = []\n",
    "# Not all tables have a tbody tag, but this one does. Otherwise, use table attribute.\n",
    "for child in soup.tbody.children:\n",
    "    row = []\n",
    "    for td in child:\n",
    "        try:\n",
    "            # Convert new lines to empty space\n",
    "            row.append(td.text.replace('\\n', '')) \n",
    "        except:\n",
    "            continue\n",
    "    if len(row) > 0:\n",
    "        rows.append(row)\n",
    "        \n",
    "df = pd.DataFrame(rows[1:], columns=rows[0])"
   ]
  },
  {
   "cell_type": "markdown",
   "metadata": {},
   "source": [
    "Let us take a look at our table."
   ]
  },
  {
   "cell_type": "code",
   "execution_count": 4,
   "metadata": {},
   "outputs": [
    {
     "data": {
      "text/html": [
       "<div>\n",
       "<style scoped>\n",
       "    .dataframe tbody tr th:only-of-type {\n",
       "        vertical-align: middle;\n",
       "    }\n",
       "\n",
       "    .dataframe tbody tr th {\n",
       "        vertical-align: top;\n",
       "    }\n",
       "\n",
       "    .dataframe thead th {\n",
       "        text-align: right;\n",
       "    }\n",
       "</style>\n",
       "<table border=\"1\" class=\"dataframe\">\n",
       "  <thead>\n",
       "    <tr style=\"text-align: right;\">\n",
       "      <th></th>\n",
       "      <th>Fecha local</th>\n",
       "      <th>Hora local</th>\n",
       "      <th>Latitud</th>\n",
       "      <th>Longitud</th>\n",
       "      <th>Magnitud Ms</th>\n",
       "      <th>Magnitud Mw</th>\n",
       "      <th>Profundidad [km]</th>\n",
       "      <th>Efecto</th>\n",
       "    </tr>\n",
       "  </thead>\n",
       "  <tbody>\n",
       "    <tr>\n",
       "      <th>0</th>\n",
       "      <td>08/02/1570</td>\n",
       "      <td>9:00</td>\n",
       "      <td>-36.800</td>\n",
       "      <td>-73.000</td>\n",
       "      <td>8.3</td>\n",
       "      <td>-</td>\n",
       "      <td>-</td>\n",
       "      <td>TD</td>\n",
       "    </tr>\n",
       "    <tr>\n",
       "      <th>1</th>\n",
       "      <td>17/03/1575</td>\n",
       "      <td>10:00</td>\n",
       "      <td>-33.400</td>\n",
       "      <td>-70.600</td>\n",
       "      <td>7.3</td>\n",
       "      <td>-</td>\n",
       "      <td>-</td>\n",
       "      <td>-</td>\n",
       "    </tr>\n",
       "    <tr>\n",
       "      <th>2</th>\n",
       "      <td>16/12/1575</td>\n",
       "      <td>14:30</td>\n",
       "      <td>-39.800</td>\n",
       "      <td>-73.200</td>\n",
       "      <td>8.5</td>\n",
       "      <td>-</td>\n",
       "      <td>-</td>\n",
       "      <td>TD</td>\n",
       "    </tr>\n",
       "    <tr>\n",
       "      <th>3</th>\n",
       "      <td>24/11/1604</td>\n",
       "      <td>12:30</td>\n",
       "      <td>-18.500</td>\n",
       "      <td>-70.400</td>\n",
       "      <td>8.5</td>\n",
       "      <td>-</td>\n",
       "      <td>30</td>\n",
       "      <td>TD</td>\n",
       "    </tr>\n",
       "    <tr>\n",
       "      <th>4</th>\n",
       "      <td>16/09/1615</td>\n",
       "      <td>23:30</td>\n",
       "      <td>-18.500</td>\n",
       "      <td>-70.350</td>\n",
       "      <td>8.8</td>\n",
       "      <td>-</td>\n",
       "      <td>-</td>\n",
       "      <td>TM</td>\n",
       "    </tr>\n",
       "  </tbody>\n",
       "</table>\n",
       "</div>"
      ],
      "text/plain": [
       "  Fecha local Hora local  Latitud Longitud Magnitud Ms Magnitud Mw  \\\n",
       "0  08/02/1570       9:00  -36.800  -73.000         8.3           -   \n",
       "1  17/03/1575      10:00  -33.400  -70.600         7.3           -   \n",
       "2  16/12/1575      14:30  -39.800  -73.200         8.5           -   \n",
       "3  24/11/1604      12:30  -18.500  -70.400         8.5           -   \n",
       "4  16/09/1615      23:30  -18.500  -70.350         8.8           -   \n",
       "\n",
       "  Profundidad [km] Efecto  \n",
       "0                -     TD  \n",
       "1                -      -  \n",
       "2                -     TD  \n",
       "3               30     TD  \n",
       "4                -     TM  "
      ]
     },
     "execution_count": 4,
     "metadata": {},
     "output_type": "execute_result"
    }
   ],
   "source": [
    "df.head()"
   ]
  },
  {
   "cell_type": "code",
   "execution_count": 5,
   "metadata": {},
   "outputs": [
    {
     "data": {
      "text/html": [
       "<div>\n",
       "<style scoped>\n",
       "    .dataframe tbody tr th:only-of-type {\n",
       "        vertical-align: middle;\n",
       "    }\n",
       "\n",
       "    .dataframe tbody tr th {\n",
       "        vertical-align: top;\n",
       "    }\n",
       "\n",
       "    .dataframe thead th {\n",
       "        text-align: right;\n",
       "    }\n",
       "</style>\n",
       "<table border=\"1\" class=\"dataframe\">\n",
       "  <thead>\n",
       "    <tr style=\"text-align: right;\">\n",
       "      <th></th>\n",
       "      <th>Fecha local</th>\n",
       "      <th>Hora local</th>\n",
       "      <th>Latitud</th>\n",
       "      <th>Longitud</th>\n",
       "      <th>Magnitud Ms</th>\n",
       "      <th>Magnitud Mw</th>\n",
       "      <th>Profundidad [km]</th>\n",
       "      <th>Efecto</th>\n",
       "    </tr>\n",
       "  </thead>\n",
       "  <tbody>\n",
       "    <tr>\n",
       "      <th>109</th>\n",
       "      <td>27/02/2010</td>\n",
       "      <td>03:34</td>\n",
       "      <td>-36.290</td>\n",
       "      <td>-73.239</td>\n",
       "      <td>-</td>\n",
       "      <td>8.8</td>\n",
       "      <td>30</td>\n",
       "      <td>TD</td>\n",
       "    </tr>\n",
       "    <tr>\n",
       "      <th>110</th>\n",
       "      <td>01/04/2014</td>\n",
       "      <td>20:46</td>\n",
       "      <td>-19.572</td>\n",
       "      <td>-70.908</td>\n",
       "      <td>-</td>\n",
       "      <td>8.2</td>\n",
       "      <td>38.9</td>\n",
       "      <td>T</td>\n",
       "    </tr>\n",
       "    <tr>\n",
       "      <th>111</th>\n",
       "      <td>16/09/2015</td>\n",
       "      <td>19:54</td>\n",
       "      <td>-31.553</td>\n",
       "      <td>-71.864</td>\n",
       "      <td>-</td>\n",
       "      <td>8.4</td>\n",
       "      <td>11.1</td>\n",
       "      <td>TD</td>\n",
       "    </tr>\n",
       "    <tr>\n",
       "      <th>112</th>\n",
       "      <td>25/12/2016</td>\n",
       "      <td>11:22</td>\n",
       "      <td>-43.517</td>\n",
       "      <td>-74.391</td>\n",
       "      <td>-</td>\n",
       "      <td>7.6</td>\n",
       "      <td>30</td>\n",
       "      <td>T</td>\n",
       "    </tr>\n",
       "    <tr>\n",
       "      <th>113</th>\n",
       "      <td>01/09/2020</td>\n",
       "      <td>00:09</td>\n",
       "      <td>-27.969</td>\n",
       "      <td>-71.241</td>\n",
       "      <td>-</td>\n",
       "      <td>7.0</td>\n",
       "      <td>31</td>\n",
       "      <td>-</td>\n",
       "    </tr>\n",
       "  </tbody>\n",
       "</table>\n",
       "</div>"
      ],
      "text/plain": [
       "    Fecha local Hora local  Latitud Longitud Magnitud Ms Magnitud Mw  \\\n",
       "109  27/02/2010      03:34  -36.290  -73.239           -         8.8   \n",
       "110  01/04/2014      20:46  -19.572  -70.908           -         8.2   \n",
       "111  16/09/2015      19:54  -31.553  -71.864           -         8.4   \n",
       "112  25/12/2016      11:22  -43.517  -74.391           -         7.6   \n",
       "113  01/09/2020      00:09  -27.969  -71.241           -         7.0   \n",
       "\n",
       "    Profundidad [km] Efecto  \n",
       "109               30     TD  \n",
       "110             38.9      T  \n",
       "111             11.1     TD  \n",
       "112               30      T  \n",
       "113               31      -  "
      ]
     },
     "execution_count": 5,
     "metadata": {},
     "output_type": "execute_result"
    }
   ],
   "source": [
    "df.tail()"
   ]
  },
  {
   "cell_type": "code",
   "execution_count": 6,
   "metadata": {},
   "outputs": [
    {
     "name": "stdout",
     "output_type": "stream",
     "text": [
      "<class 'pandas.core.frame.DataFrame'>\n",
      "RangeIndex: 114 entries, 0 to 113\n",
      "Data columns (total 8 columns):\n",
      " #   Column            Non-Null Count  Dtype \n",
      "---  ------            --------------  ----- \n",
      " 0   Fecha local       114 non-null    object\n",
      " 1   Hora local        114 non-null    object\n",
      " 2   Latitud           114 non-null    object\n",
      " 3   Longitud          114 non-null    object\n",
      " 4   Magnitud Ms       114 non-null    object\n",
      " 5   Magnitud Mw       114 non-null    object\n",
      " 6   Profundidad [km]  114 non-null    object\n",
      " 7   Efecto            114 non-null    object\n",
      "dtypes: object(8)\n",
      "memory usage: 7.2+ KB\n"
     ]
    }
   ],
   "source": [
    "df.info()"
   ]
  },
  {
   "cell_type": "markdown",
   "metadata": {},
   "source": [
    "The earthquake table contains events of magnitude Ms (from superficial waves) or Mw (momentum magnitude) larger or equal than 7.0 ordered by date and time. We also have the latitude and longitude of the epicenter, depth in km and the effect. Surprisingly, the records span 450 years of data! The questions we want to address in this notebook are\n",
    "\n",
    "* What are the statistical properties of the data?\n",
    "* How are the events distributed in space and time?\n",
    "* What's the frequency of events as a function of their magnitude?"
   ]
  },
  {
   "cell_type": "markdown",
   "metadata": {
    "heading_collapsed": "true",
    "tags": []
   },
   "source": [
    "## 2. Cleaning the data"
   ]
  },
  {
   "cell_type": "markdown",
   "metadata": {},
   "source": [
    "We would like to convert the earthquake's dates to `datetime`, but the date interval is out of bound. The maximum interval allowed by `datetime` is 584 years, as can be seen below. However, the first earthquake in the list is from the year 1570! Therefore, we shall work with dates more explictly."
   ]
  },
  {
   "cell_type": "code",
   "execution_count": 7,
   "metadata": {},
   "outputs": [
    {
     "data": {
      "text/plain": [
       "(Timestamp('1677-09-21 00:12:43.145224193'),\n",
       " Timestamp('2262-04-11 23:47:16.854775807'))"
      ]
     },
     "execution_count": 7,
     "metadata": {},
     "output_type": "execute_result"
    }
   ],
   "source": [
    "pd.Timestamp.min, pd.Timestamp.max"
   ]
  },
  {
   "cell_type": "markdown",
   "metadata": {},
   "source": [
    "We first extract the day, month and year explicitly."
   ]
  },
  {
   "cell_type": "code",
   "execution_count": 8,
   "metadata": {},
   "outputs": [],
   "source": [
    "# Extracting day, month and year \n",
    "date = df[\"Fecha local\"].values\n",
    "day, month, year = [[my_str.split(\"/\")[i] for my_str in date] for i in range(3)]\n",
    "df[\"year\"] = year\n",
    "df[\"month\"]= month\n",
    "df[\"day\"] = day"
   ]
  },
  {
   "cell_type": "markdown",
   "metadata": {},
   "source": [
    "Let us rename the columns to English for convenience and convert empty values `-` to NaN and Magnitud values with `,` to `.` decimal sign."
   ]
  },
  {
   "cell_type": "code",
   "execution_count": 9,
   "metadata": {},
   "outputs": [
    {
     "data": {
      "text/html": [
       "<div>\n",
       "<style scoped>\n",
       "    .dataframe tbody tr th:only-of-type {\n",
       "        vertical-align: middle;\n",
       "    }\n",
       "\n",
       "    .dataframe tbody tr th {\n",
       "        vertical-align: top;\n",
       "    }\n",
       "\n",
       "    .dataframe thead th {\n",
       "        text-align: right;\n",
       "    }\n",
       "</style>\n",
       "<table border=\"1\" class=\"dataframe\">\n",
       "  <thead>\n",
       "    <tr style=\"text-align: right;\">\n",
       "      <th></th>\n",
       "      <th>date</th>\n",
       "      <th>time</th>\n",
       "      <th>latitude</th>\n",
       "      <th>longitude</th>\n",
       "      <th>mag_ms</th>\n",
       "      <th>mag_mw</th>\n",
       "      <th>depth_km</th>\n",
       "      <th>effect</th>\n",
       "      <th>year</th>\n",
       "      <th>month</th>\n",
       "      <th>day</th>\n",
       "    </tr>\n",
       "  </thead>\n",
       "  <tbody>\n",
       "    <tr>\n",
       "      <th>0</th>\n",
       "      <td>08/02/1570</td>\n",
       "      <td>9:00</td>\n",
       "      <td>-36.8</td>\n",
       "      <td>-73.00</td>\n",
       "      <td>8.3</td>\n",
       "      <td>NaN</td>\n",
       "      <td>NaN</td>\n",
       "      <td>TD</td>\n",
       "      <td>1570</td>\n",
       "      <td>2</td>\n",
       "      <td>8</td>\n",
       "    </tr>\n",
       "    <tr>\n",
       "      <th>1</th>\n",
       "      <td>17/03/1575</td>\n",
       "      <td>10:00</td>\n",
       "      <td>-33.4</td>\n",
       "      <td>-70.60</td>\n",
       "      <td>7.3</td>\n",
       "      <td>NaN</td>\n",
       "      <td>NaN</td>\n",
       "      <td>NaN</td>\n",
       "      <td>1575</td>\n",
       "      <td>3</td>\n",
       "      <td>17</td>\n",
       "    </tr>\n",
       "    <tr>\n",
       "      <th>2</th>\n",
       "      <td>16/12/1575</td>\n",
       "      <td>14:30</td>\n",
       "      <td>-39.8</td>\n",
       "      <td>-73.20</td>\n",
       "      <td>8.5</td>\n",
       "      <td>NaN</td>\n",
       "      <td>NaN</td>\n",
       "      <td>TD</td>\n",
       "      <td>1575</td>\n",
       "      <td>12</td>\n",
       "      <td>16</td>\n",
       "    </tr>\n",
       "    <tr>\n",
       "      <th>3</th>\n",
       "      <td>24/11/1604</td>\n",
       "      <td>12:30</td>\n",
       "      <td>-18.5</td>\n",
       "      <td>-70.40</td>\n",
       "      <td>8.5</td>\n",
       "      <td>NaN</td>\n",
       "      <td>30.0</td>\n",
       "      <td>TD</td>\n",
       "      <td>1604</td>\n",
       "      <td>11</td>\n",
       "      <td>24</td>\n",
       "    </tr>\n",
       "    <tr>\n",
       "      <th>4</th>\n",
       "      <td>16/09/1615</td>\n",
       "      <td>23:30</td>\n",
       "      <td>-18.5</td>\n",
       "      <td>-70.35</td>\n",
       "      <td>8.8</td>\n",
       "      <td>NaN</td>\n",
       "      <td>NaN</td>\n",
       "      <td>TM</td>\n",
       "      <td>1615</td>\n",
       "      <td>9</td>\n",
       "      <td>16</td>\n",
       "    </tr>\n",
       "  </tbody>\n",
       "</table>\n",
       "</div>"
      ],
      "text/plain": [
       "         date   time  latitude  longitude  mag_ms  mag_mw  depth_km effect  \\\n",
       "0  08/02/1570   9:00     -36.8     -73.00     8.3     NaN       NaN     TD   \n",
       "1  17/03/1575  10:00     -33.4     -70.60     7.3     NaN       NaN    NaN   \n",
       "2  16/12/1575  14:30     -39.8     -73.20     8.5     NaN       NaN     TD   \n",
       "3  24/11/1604  12:30     -18.5     -70.40     8.5     NaN      30.0     TD   \n",
       "4  16/09/1615  23:30     -18.5     -70.35     8.8     NaN       NaN     TM   \n",
       "\n",
       "   year  month  day  \n",
       "0  1570      2    8  \n",
       "1  1575      3   17  \n",
       "2  1575     12   16  \n",
       "3  1604     11   24  \n",
       "4  1615      9   16  "
      ]
     },
     "execution_count": 9,
     "metadata": {},
     "output_type": "execute_result"
    }
   ],
   "source": [
    "df_clean = df.replace({\",\":\".\", \"-$\": np.nan}, regex=True).apply(pd.to_numeric, errors='ignore')\n",
    "cols = ['date', 'time', 'latitude', 'longitude', 'mag_ms', 'mag_mw', 'depth_km', 'effect', 'year', 'month', 'day'] \n",
    "df_clean.columns = cols\n",
    "df_clean.head()"
   ]
  },
  {
   "cell_type": "code",
   "execution_count": 10,
   "metadata": {},
   "outputs": [
    {
     "name": "stdout",
     "output_type": "stream",
     "text": [
      "<class 'pandas.core.frame.DataFrame'>\n",
      "RangeIndex: 114 entries, 0 to 113\n",
      "Data columns (total 11 columns):\n",
      " #   Column     Non-Null Count  Dtype  \n",
      "---  ------     --------------  -----  \n",
      " 0   date       114 non-null    object \n",
      " 1   time       111 non-null    object \n",
      " 2   latitude   114 non-null    float64\n",
      " 3   longitude  114 non-null    float64\n",
      " 4   mag_ms     108 non-null    float64\n",
      " 5   mag_mw     14 non-null     float64\n",
      " 6   depth_km   62 non-null     float64\n",
      " 7   effect     34 non-null     object \n",
      " 8   year       114 non-null    int64  \n",
      " 9   month      114 non-null    int64  \n",
      " 10  day        114 non-null    int64  \n",
      "dtypes: float64(5), int64(3), object(3)\n",
      "memory usage: 9.9+ KB\n"
     ]
    }
   ],
   "source": [
    "df_clean.info()"
   ]
  },
  {
   "cell_type": "markdown",
   "metadata": {},
   "source": [
    "We see that most events have a Ms record, but only 14 Mw records. Mw records are the current Magnitude standard for large earthquakes with M > 4 (https://en.wikipedia.org/wiki/Moment_magnitude_scale), considered to be more reliable than Ms. However, we will mostly analyze the Ms records, as we have a much larger number of events."
   ]
  },
  {
   "cell_type": "markdown",
   "metadata": {
    "tags": []
   },
   "source": [
    "## 3. Analyzing the Data"
   ]
  },
  {
   "cell_type": "markdown",
   "metadata": {
    "tags": []
   },
   "source": [
    "### 3.1 Distribution of Major Earthquakes in Time"
   ]
  },
  {
   "cell_type": "markdown",
   "metadata": {},
   "source": [
    "Let us first check the distribution of major earthquakes per year. We rename the dataframe to simplify the analysis."
   ]
  },
  {
   "cell_type": "code",
   "execution_count": 11,
   "metadata": {},
   "outputs": [],
   "source": [
    "df = df_clean.copy()"
   ]
  },
  {
   "cell_type": "code",
   "execution_count": 12,
   "metadata": {},
   "outputs": [
    {
     "data": {
      "image/png": "[encoded data removed]",
      "text/plain": [
       "<Figure size 432x288 with 1 Axes>"
      ]
     },
     "metadata": {},
     "output_type": "display_data"
    }
   ],
   "source": [
    "nbins = int(np.sqrt(len(df)))\n",
    "df['year'].hist(bins=nbins)\n",
    "plt.show()"
   ]
  },
  {
   "cell_type": "markdown",
   "metadata": {},
   "source": [
    "In this plot, we see that the majority of events was registered in the 1900s. This is expected, as seismographs have become more widespread in the 20th century. Therefore, in the following, __we will only analyze events after the year 1900__. However, there is a decay on the number of events closer to the year 2000. Let us check the events in the past century more closely to see what is happening."
   ]
  },
  {
   "cell_type": "code",
   "execution_count": 13,
   "metadata": {},
   "outputs": [
    {
     "data": {
      "image/png": "[encoded data removed]",
      "text/plain": [
       "<Figure size 432x288 with 1 Axes>"
      ]
     },
     "metadata": {},
     "output_type": "display_data"
    }
   ],
   "source": [
    "df1900 = df[df['year'] >= 1900]\n",
    "nbins = int(np.sqrt(len(df1900)))\n",
    "df1900['year'].hist(bins=nbins)\n",
    "plt.show()"
   ]
  },
  {
   "cell_type": "markdown",
   "metadata": {},
   "source": [
    "We see an important drop in the number of major events after 1970. It is unclear why that is the case and it would require a more refined analysis of earthquake phenomenology to understand what is going on. According to this [paper](https://academic.oup.com/gji/article/143/2/438/701588?login=true), the negative binomial distribution is a good fit for the number of earthquakes per year. We shall leave a more refined analysis of this problem for the future."
   ]
  },
  {
   "cell_type": "markdown",
   "metadata": {},
   "source": [
    "What is the average number of earthquakes per year?"
   ]
  },
  {
   "cell_type": "code",
   "execution_count": 14,
   "metadata": {},
   "outputs": [
    {
     "data": {
      "text/plain": [
       "1.4385964912280702"
      ]
     },
     "execution_count": 14,
     "metadata": {},
     "output_type": "execute_result"
    }
   ],
   "source": [
    "avg_events_year = df1900['year'].value_counts().mean()\n",
    "avg_events_year"
   ]
  },
  {
   "cell_type": "markdown",
   "metadata": {},
   "source": [
    "We have a large number of apparently rare events, as there are less than 2 events per year and some years did not have large events. This suggests that the number of earthquakes might be Poisson distributed. Let us check this assumption."
   ]
  },
  {
   "cell_type": "markdown",
   "metadata": {},
   "source": [
    "First, we create a table with all years from 1906 to 2020."
   ]
  },
  {
   "cell_type": "code",
   "execution_count": 15,
   "metadata": {},
   "outputs": [
    {
     "data": {
      "text/html": [
       "<div>\n",
       "<style scoped>\n",
       "    .dataframe tbody tr th:only-of-type {\n",
       "        vertical-align: middle;\n",
       "    }\n",
       "\n",
       "    .dataframe tbody tr th {\n",
       "        vertical-align: top;\n",
       "    }\n",
       "\n",
       "    .dataframe thead th {\n",
       "        text-align: right;\n",
       "    }\n",
       "</style>\n",
       "<table border=\"1\" class=\"dataframe\">\n",
       "  <thead>\n",
       "    <tr style=\"text-align: right;\">\n",
       "      <th></th>\n",
       "      <th>year</th>\n",
       "    </tr>\n",
       "  </thead>\n",
       "  <tbody>\n",
       "    <tr>\n",
       "      <th>0</th>\n",
       "      <td>1906</td>\n",
       "    </tr>\n",
       "    <tr>\n",
       "      <th>1</th>\n",
       "      <td>1907</td>\n",
       "    </tr>\n",
       "    <tr>\n",
       "      <th>2</th>\n",
       "      <td>1908</td>\n",
       "    </tr>\n",
       "    <tr>\n",
       "      <th>3</th>\n",
       "      <td>1909</td>\n",
       "    </tr>\n",
       "    <tr>\n",
       "      <th>4</th>\n",
       "      <td>1910</td>\n",
       "    </tr>\n",
       "  </tbody>\n",
       "</table>\n",
       "</div>"
      ],
      "text/plain": [
       "   year\n",
       "0  1906\n",
       "1  1907\n",
       "2  1908\n",
       "3  1909\n",
       "4  1910"
      ]
     },
     "execution_count": 15,
     "metadata": {},
     "output_type": "execute_result"
    }
   ],
   "source": [
    "years = pd.DataFrame({'year' : range(min(df1900['year']), max(df1900['year'])+1)})\n",
    "years.head()"
   ]
  },
  {
   "cell_type": "markdown",
   "metadata": {},
   "source": [
    "Then we count the number of events per year and merge this table with the table with all the years."
   ]
  },
  {
   "cell_type": "code",
   "execution_count": 16,
   "metadata": {
    "scrolled": true,
    "tags": []
   },
   "outputs": [
    {
     "data": {
      "text/html": [
       "<div>\n",
       "<style scoped>\n",
       "    .dataframe tbody tr th:only-of-type {\n",
       "        vertical-align: middle;\n",
       "    }\n",
       "\n",
       "    .dataframe tbody tr th {\n",
       "        vertical-align: top;\n",
       "    }\n",
       "\n",
       "    .dataframe thead th {\n",
       "        text-align: right;\n",
       "    }\n",
       "</style>\n",
       "<table border=\"1\" class=\"dataframe\">\n",
       "  <thead>\n",
       "    <tr style=\"text-align: right;\">\n",
       "      <th></th>\n",
       "      <th>events</th>\n",
       "    </tr>\n",
       "    <tr>\n",
       "      <th>year</th>\n",
       "      <th></th>\n",
       "    </tr>\n",
       "  </thead>\n",
       "  <tbody>\n",
       "    <tr>\n",
       "      <th>1906</th>\n",
       "      <td>1</td>\n",
       "    </tr>\n",
       "    <tr>\n",
       "      <th>1907</th>\n",
       "      <td>0</td>\n",
       "    </tr>\n",
       "    <tr>\n",
       "      <th>1908</th>\n",
       "      <td>0</td>\n",
       "    </tr>\n",
       "    <tr>\n",
       "      <th>1909</th>\n",
       "      <td>1</td>\n",
       "    </tr>\n",
       "    <tr>\n",
       "      <th>1910</th>\n",
       "      <td>1</td>\n",
       "    </tr>\n",
       "    <tr>\n",
       "      <th>1911</th>\n",
       "      <td>1</td>\n",
       "    </tr>\n",
       "    <tr>\n",
       "      <th>1912</th>\n",
       "      <td>0</td>\n",
       "    </tr>\n",
       "    <tr>\n",
       "      <th>1913</th>\n",
       "      <td>0</td>\n",
       "    </tr>\n",
       "    <tr>\n",
       "      <th>1914</th>\n",
       "      <td>1</td>\n",
       "    </tr>\n",
       "    <tr>\n",
       "      <th>1915</th>\n",
       "      <td>0</td>\n",
       "    </tr>\n",
       "  </tbody>\n",
       "</table>\n",
       "</div>"
      ],
      "text/plain": [
       "      events\n",
       "year        \n",
       "1906       1\n",
       "1907       0\n",
       "1908       0\n",
       "1909       1\n",
       "1910       1\n",
       "1911       1\n",
       "1912       0\n",
       "1913       0\n",
       "1914       1\n",
       "1915       0"
      ]
     },
     "execution_count": 16,
     "metadata": {},
     "output_type": "execute_result"
    }
   ],
   "source": [
    "event_count = df1900.value_counts('year').sort_index()\n",
    "df_count = pd.DataFrame({'year': event_count.index, 'events' : event_count.values})\n",
    "events_per_year = years.merge(df_count, on='year', how='left').replace(np.nan,0).astype(int).set_index('year')\n",
    "events_per_year.head(10)"
   ]
  },
  {
   "cell_type": "markdown",
   "metadata": {
    "tags": []
   },
   "source": [
    "We can now see the proportion of years between 1906 and 2020 that did not have major events:"
   ]
  },
  {
   "cell_type": "code",
   "execution_count": 17,
   "metadata": {},
   "outputs": [
    {
     "data": {
      "text/plain": [
       "50.43478260869565"
      ]
     },
     "execution_count": 17,
     "metadata": {},
     "output_type": "execute_result"
    }
   ],
   "source": [
    "(100*events_per_year[events_per_year.events == 0].count()/len(events_per_year))[0]"
   ]
  },
  {
   "cell_type": "markdown",
   "metadata": {},
   "source": [
    "That is approximately 50%, suggesting that major events happen randomly across the years. Now let us check the observed distribution of the number of events. "
   ]
  },
  {
   "cell_type": "code",
   "execution_count": 387,
   "metadata": {
    "tags": []
   },
   "outputs": [
    {
     "data": {
      "image/png": "[encoded data removed]",
      "text/plain": [
       "<Figure size 432x288 with 1 Axes>"
      ]
     },
     "metadata": {},
     "output_type": "display_data"
    }
   ],
   "source": [
    "bins = np.arange(0, max(events_per_year.events) + 1.5) - 0.5\n",
    "plt.hist(events_per_year, density=True, bins=bins)\n",
    "plt.show()"
   ]
  },
  {
   "cell_type": "markdown",
   "metadata": {},
   "source": [
    "We want to compare this with a Poisson distribution with an average of 1.48 events per year. "
   ]
  },
  {
   "cell_type": "code",
   "execution_count": 19,
   "metadata": {},
   "outputs": [
    {
     "data": {
      "image/png": "[encoded data removed]",
      "text/plain": [
       "<Figure size 432x288 with 1 Axes>"
      ]
     },
     "metadata": {},
     "output_type": "display_data"
    }
   ],
   "source": [
    "poisson = np.random.poisson(avg_events_year, 100000)\n",
    "\n",
    "plt.hist(events_per_year, density=True, bins=bins)\n",
    "plt.hist(poisson, density=True, bins=bins, alpha=0.5)\n",
    "\n",
    "plt.show()"
   ]
  },
  {
   "cell_type": "markdown",
   "metadata": {},
   "source": [
    "We see some similarity in the decay, but they are not quite the same. Let us check the _negative binomial distribution_ assuming that we have 1 event per year with a 50% probability."
   ]
  },
  {
   "cell_type": "code",
   "execution_count": 20,
   "metadata": {},
   "outputs": [
    {
     "data": {
      "image/png": "[encoded data removed]",
      "text/plain": [
       "<Figure size 432x288 with 1 Axes>"
      ]
     },
     "metadata": {},
     "output_type": "display_data"
    }
   ],
   "source": [
    "plt.hist(events_per_year, density=True, bins=bins)\n",
    "neg_binomial = np.random.negative_binomial(1, 0.5, 100000)\n",
    "plt.hist(neg_binomial, density=True, range=(0,5), alpha=0.5,bins=bins)\n",
    "plt.show()"
   ]
  },
  {
   "cell_type": "markdown",
   "metadata": {},
   "source": [
    "That is much more like it! We can see the match in more detail with an __empirical cumulative distribution function__ (ECDF), using the function defined below."
   ]
  },
  {
   "cell_type": "code",
   "execution_count": 21,
   "metadata": {},
   "outputs": [],
   "source": [
    "def ecdf(data):\n",
    "    \"\"\"Compute ECDF for a one-dimensional array of measurements.\"\"\"\n",
    "    # Number of data points: n\n",
    "    n = len(data)\n",
    "\n",
    "    # x-data for the ECDF: x\n",
    "    x = np.sort(data)\n",
    "\n",
    "    # y-data for the ECDF: y\n",
    "    y = np.arange(1, n+1) / n\n",
    "\n",
    "    return x, y"
   ]
  },
  {
   "cell_type": "code",
   "execution_count": 67,
   "metadata": {},
   "outputs": [
    {
     "data": {
      "image/png": "[encoded data removed]",
      "text/plain": [
       "<Figure size 720x576 with 1 Axes>"
      ]
     },
     "metadata": {},
     "output_type": "display_data"
    }
   ],
   "source": [
    "x, y = ecdf(events_per_year['events'])\n",
    "xnb, ynb = ecdf(neg_binomial)\n",
    "\n",
    "plt.figure(figsize=(10,8))\n",
    "plt.plot(x, y, 'bo', label='Events')\n",
    "plt.plot(xnb, ynb, 'r-', label='Negative Binomial')\n",
    "plt.xlabel('Magnitude [Ms]')\n",
    "plt.ylabel('Proportion')\n",
    "# sns.ecdfplot(events_per_year.events)\n",
    "# sns.ecdfplot(neg_binomial)\n",
    "plt.legend()\n",
    "plt.margins(0.02) # Keeps data off plot edges\n",
    "plt.show()"
   ]
  },
  {
   "cell_type": "markdown",
   "metadata": {},
   "source": [
    "The match is quite good, but still not perfect. However, it works well as a first approximation."
   ]
  },
  {
   "cell_type": "markdown",
   "metadata": {},
   "source": [
    "Now let us check the distribution of events per month."
   ]
  },
  {
   "cell_type": "code",
   "execution_count": 82,
   "metadata": {},
   "outputs": [
    {
     "data": {
      "image/png": "[encoded data removed]",
      "text/plain": [
       "<Figure size 360x360 with 1 Axes>"
      ]
     },
     "metadata": {},
     "output_type": "display_data"
    }
   ],
   "source": [
    "events_per_month = df1900.sort_values('month')\n",
    "sns.catplot(x='month', data=events_per_month, kind='count', palette='Blues')\n",
    "plt.show()"
   ]
  },
  {
   "cell_type": "markdown",
   "metadata": {},
   "source": [
    "There is a larger amount of big earthquakes in December. How do we know if this is statistically significant? We have to do a __hypothesis test__. Let us assume that earthquakes happen at random across the months of the year. What is the likelihood of getting the observed values? To test this, we shall create a large number of random __bootstrap samples__ from our month data and analyze the distribution of events.\n",
    "\n",
    "Before doing that, let us check how close is the CDF of events to a uniformly random one."
   ]
  },
  {
   "cell_type": "code",
   "execution_count": 365,
   "metadata": {},
   "outputs": [
    {
     "data": {
      "image/png": "[encoded data removed]",
      "text/plain": [
       "<Figure size 504x864 with 2 Axes>"
      ]
     },
     "metadata": {},
     "output_type": "display_data"
    }
   ],
   "source": [
    "from matplotlib.lines import Line2D\n",
    "\n",
    "fig, ax = plt.subplots(nrows=2, figsize=(7,12))\n",
    "\n",
    "for _ in range(50):\n",
    "    # Generate bootstrap sample: bs_sample\n",
    "    bs_sample = np.random.choice(events_per_month.month.values, size=len(events_per_month.month.values))\n",
    "\n",
    "    # Compute and plot ECDF from bootstrap sample\n",
    "    x, y = ecdf(bs_sample)\n",
    "    _ = ax[0].plot(x, y, marker='.',\n",
    "                 color='gray', alpha=0.1)\n",
    "\n",
    "# Seed the random number generator\n",
    "np.random.seed(42)\n",
    "\n",
    "# Generate random numbers between 1 and 12 by looping over range(100000)\n",
    "size = 10000 #len(events_per_month)\n",
    "random_numbers = np.random.randint(1,13,size)\n",
    "\n",
    "# Compute and plot ECDF from original data\n",
    "x, y = ecdf(random_numbers)\n",
    "line1, = ax[0].plot(x, y, marker='.', label='uniform distribution')\n",
    "\n",
    "# Compute and plot ECDF from original data\n",
    "x, y = ecdf(events_per_month.month)\n",
    "line2, = ax[0].plot(x, y, marker='.', label='earthquake data')\n",
    "\n",
    "ax[1].hist([events_per_month.month, random_numbers], density=True, bins=12)\n",
    "\n",
    "# Make margins and label axes\n",
    "ax[0].margins(0.02)\n",
    "ax[0].set(ylabel='Proportion')\n",
    "ax[1].set(xlabel='Month')\n",
    "\n",
    "# Make legends\n",
    "legend_elements = [line1, line2, Line2D([0], [0], color='grey', lw=4, label='bootstrap samples')]\n",
    "ax[0].legend(handles=legend_elements, loc='upper left')\n",
    "\n",
    "\n",
    "# Show the plot\n",
    "plt.show()"
   ]
  },
  {
   "cell_type": "markdown",
   "metadata": {},
   "source": [
    "That distributions look pretty similar, given the small number of earthquake events. We also plotted bootstrap samples in gray to see the variability of _randomly choosing the data with replacement_. The random distribution is within our level of variability. Now, we shall do our hypothesis testing to see _how close is the monthly event distribution_ to an uniform distribution."
   ]
  },
  {
   "cell_type": "markdown",
   "metadata": {},
   "source": [
    "#### Hypothesis testing"
   ]
  },
  {
   "cell_type": "markdown",
   "metadata": {},
   "source": [
    "Our __null hypothesis__ here is that the distribution of earthquakes per month is uniformly random. To test this assumption, we shall use the __difference between the distributions' variance__ as our __test statistic__ and generate a large number of values from bootstrap samples. This will be accomplished by the following steps:\n",
    "\n",
    "- Combine the empirical data with an uniformly distributed data of the same size.\n",
    "- Permute the combined data with replacement and generate two new samples. This is a _bootstrap sample_.\n",
    "- Repeat the process a large number of times and compute the test statistic for each sample. This is an _ensemble of bootstrap replicas_.\n",
    "- Plot histogram of the ensemble and compute the __p-value__ of our original test statistic.\n",
    "\n",
    "If the p-value is small, the variance of the two distributions is statistically different. Otherwise, we cannot discard the null hypothesis."
   ]
  },
  {
   "cell_type": "markdown",
   "metadata": {},
   "source": [
    "We start by defining some custom functions for our task."
   ]
  },
  {
   "cell_type": "code",
   "execution_count": 366,
   "metadata": {},
   "outputs": [],
   "source": [
    "def permutation_sample(data1, data2):\n",
    "    \"\"\"Generate a permutation sample from two data sets.\"\"\"\n",
    "\n",
    "    # Concatenate the data sets: data\n",
    "    data = np.concatenate((data1, data2))\n",
    "\n",
    "    # Permute the concatenated array: permuted_data\n",
    "    permuted_data = np.random.permutation(data)\n",
    "\n",
    "    # Split the permuted array into two: perm_sample_1, perm_sample_2\n",
    "    perm_sample_1 = permuted_data[:len(data1)]\n",
    "    perm_sample_2 = permuted_data[len(data1):]\n",
    "\n",
    "    return perm_sample_1, perm_sample_2\n",
    "\n",
    "def draw_perm_reps(data_1, data_2, func, size=1):\n",
    "    \"\"\"Generate multiple permutation replicates.\"\"\"\n",
    "\n",
    "    # Initialize array of replicates: perm_replicates\n",
    "    perm_replicates = np.empty(size)\n",
    "\n",
    "    for i in range(size):\n",
    "        # Generate permutation sample\n",
    "        perm_sample_1, perm_sample_2 = permutation_sample(data_1, data_2)\n",
    "\n",
    "        # Compute the test statistic\n",
    "        perm_replicates[i] = func(perm_sample_1, perm_sample_2)\n",
    "\n",
    "    return perm_replicates\n",
    "\n",
    "def diff_of_mean(data_1, data_2):\n",
    "      \"\"\"Difference in variance of two arrays.\"\"\"\n",
    "  \n",
    "      # The difference of means of data_1, data_2: diff\n",
    "      diff = np.mean(data_1) - np.mean(data_2)\n",
    "  \n",
    "      return diff\n",
    "\n",
    "def diff_of_var(data_1, data_2):\n",
    "      \"\"\"Difference in variance of two arrays.\"\"\"\n",
    "  \n",
    "      # The difference of means of data_1, data_2: diff\n",
    "      diff = np.var(data_1) - np.var(data_2)\n",
    "  \n",
    "      return diff"
   ]
  },
  {
   "cell_type": "markdown",
   "metadata": {},
   "source": [
    "We generate the uniform random distribution `random_numbers` and compute an ensemble of bootstrap replicates of size 10000."
   ]
  },
  {
   "cell_type": "code",
   "execution_count": 367,
   "metadata": {},
   "outputs": [],
   "source": [
    "# Seed the random number generator\n",
    "np.random.seed(42)\n",
    "\n",
    "# Generate random numbers between 1 and 12 by looping over range(size)\n",
    "size = 10000 #len(events_per_month)\n",
    "random_numbers = np.random.randint(1,13,size)\n",
    "\n",
    "#perm_sample_1, perm_sample_2 = permutation_sample(events_per_month.month, random_numbers)\n",
    "bs_replicates = draw_perm_reps(events_per_month.month, random_numbers, diff_of_var, 10000)"
   ]
  },
  {
   "cell_type": "markdown",
   "metadata": {},
   "source": [
    "Let us check the difference of the mean between the data and the random numbers"
   ]
  },
  {
   "cell_type": "code",
   "execution_count": 368,
   "metadata": {},
   "outputs": [
    {
     "data": {
      "text/plain": [
       "(6.4964, 0.29628292682926816)"
      ]
     },
     "execution_count": 368,
     "metadata": {},
     "output_type": "execute_result"
    }
   ],
   "source": [
    "np.mean(random_numbers), diff_of_mean(events_per_month.month, random_numbers)"
   ]
  },
  {
   "cell_type": "code",
   "execution_count": 369,
   "metadata": {},
   "outputs": [
    {
     "data": {
      "image/png": "[encoded data removed]",
      "text/plain": [
       "<Figure size 432x288 with 1 Axes>"
      ]
     },
     "metadata": {},
     "output_type": "display_data"
    }
   ],
   "source": [
    "plt.hist([events_per_month.month, random_numbers], bins=12, density=True)\n",
    "plt.show()"
   ]
  },
  {
   "cell_type": "markdown",
   "metadata": {},
   "source": [
    "The difference of variance is given by"
   ]
  },
  {
   "cell_type": "code",
   "execution_count": 370,
   "metadata": {},
   "outputs": [
    {
     "data": {
      "text/plain": [
       "0.6781642984890013"
      ]
     },
     "execution_count": 370,
     "metadata": {},
     "output_type": "execute_result"
    }
   ],
   "source": [
    "diff_of_var(events_per_month.month, random_numbers)"
   ]
  },
  {
   "cell_type": "markdown",
   "metadata": {},
   "source": [
    "Now we can plot the distribution of the difference of variances in the ensemble and compare with the value above."
   ]
  },
  {
   "cell_type": "code",
   "execution_count": 374,
   "metadata": {},
   "outputs": [
    {
     "data": {
      "image/png": "[encoded data removed]",
      "text/plain": [
       "<Figure size 432x288 with 1 Axes>"
      ]
     },
     "metadata": {},
     "output_type": "display_data"
    },
    {
     "name": "stdout",
     "output_type": "stream",
     "text": [
      "p-value = 0.2381\n"
     ]
    }
   ],
   "source": [
    "plt.hist(bs_replicates, alpha=0.5)\n",
    "plt.vlines(x=diff_of_var(events_per_month.month.values, random_numbers),ymin=0,ymax=3000, label='Empirical difference', color='orange')\n",
    "plt.xlabel('Difference of Variance')\n",
    "plt.title('Distribution of Difference of Variance in Bootstrap Ensemble')\n",
    "plt.legend(loc='upper left')\n",
    "plt.show()\n",
    "\n",
    "# Computing the p-value\n",
    "p = np.sum(bs_replicates >= diff_of_var(events_per_month.month.values, random_numbers)) / len(bs_replicates)\n",
    "print('p-value =', p)"
   ]
  },
  {
   "cell_type": "markdown",
   "metadata": {},
   "source": [
    "We see that the p-value is quite high, suggesting that we __cannot__ discard the null hypothesis, i.e., that the monthly distribution of earthquakes is approximately uniform."
   ]
  },
  {
   "cell_type": "markdown",
   "metadata": {
    "tags": []
   },
   "source": [
    "### 3.2 Distributions of Earthquake Magnitudes in Time and Space"
   ]
  },
  {
   "cell_type": "markdown",
   "metadata": {},
   "source": [
    "Let us compute the ECDF of the Ms magnitude."
   ]
  },
  {
   "cell_type": "code",
   "execution_count": 376,
   "metadata": {},
   "outputs": [
    {
     "data": {
      "image/png": "[encoded data removed]",
      "text/plain": [
       "<Figure size 432x288 with 1 Axes>"
      ]
     },
     "metadata": {},
     "output_type": "display_data"
    }
   ],
   "source": [
    "x, y = ecdf(df['mag_ms'])\n",
    "plt.plot(x, y, '.')\n",
    "plt.xlabel('Magnitude Ms')\n",
    "plt.ylabel('Proportion')\n",
    "plt.margins(0.02) # Keeps data off plot edges\n",
    "plt.show()"
   ]
  },
  {
   "cell_type": "markdown",
   "metadata": {},
   "source": [
    "From this we see that around 60% of major earthquakes had a magnitude Ms lower or equal than 7.5 and only 20% of the events had a magnitude higher than 8.25. We can see this in more detail with a histogram:"
   ]
  },
  {
   "cell_type": "code",
   "execution_count": 385,
   "metadata": {
    "tags": []
   },
   "outputs": [
    {
     "data": {
      "image/png": "[encoded data removed]",
      "text/plain": [
       "<Figure size 720x360 with 1 Axes>"
      ]
     },
     "metadata": {},
     "output_type": "display_data"
    }
   ],
   "source": [
    "magnitud_ms = df[~df['mag_ms'].isna()].sort_values('mag_ms')\n",
    "\n",
    "g1 = sns.catplot(x='mag_ms',data=magnitud_ms, kind='count', aspect=2)\n",
    "g1.set(xlabel='Magnitude [Ms]')\n",
    "plt.show()"
   ]
  },
  {
   "cell_type": "markdown",
   "metadata": {},
   "source": [
    "We can also check the Magnitude distribution per month with a boxplot."
   ]
  },
  {
   "cell_type": "code",
   "execution_count": 386,
   "metadata": {},
   "outputs": [
    {
     "data": {
      "image/png": "[encoded data removed]",
      "text/plain": [
       "<Figure size 720x360 with 1 Axes>"
      ]
     },
     "metadata": {},
     "output_type": "display_data"
    }
   ],
   "source": [
    "g = sns.catplot(x='month', y='mag_ms', data=magnitud_ms, kind='box', aspect=2)\n",
    "g.set(ylabel='Magnitude Ms', title='Distribution of Magnitudes [Ms] per Month')\n",
    "plt.show()"
   ]
  },
  {
   "cell_type": "markdown",
   "metadata": {},
   "source": [
    "There is a large variability with respect to different months, but this is might be due to the small number of events."
   ]
  },
  {
   "cell_type": "markdown",
   "metadata": {},
   "source": [
    "Do we see any trend in the event's magnitudes in time? We can test this by a linear regression plot."
   ]
  },
  {
   "cell_type": "code",
   "execution_count": 252,
   "metadata": {},
   "outputs": [
    {
     "data": {
      "image/png": "[encoded data removed]",
      "text/plain": [
       "<Figure size 720x360 with 1 Axes>"
      ]
     },
     "metadata": {},
     "output_type": "display_data"
    }
   ],
   "source": [
    "#magnitud_ms = df_clean[(~df_clean['mag_ms'].isna()) & (df_clean['year'] > 1900)].sort_values('mag_ms')\n",
    "\n",
    "g1 = sns.lmplot(y='mag_ms', x='year', data=df, aspect=2)\n",
    "g1.set(ylabel='Magnitude [Ms]')\n",
    "\n",
    "plt.show()"
   ]
  },
  {
   "cell_type": "markdown",
   "metadata": {},
   "source": [
    "There is a significant slope, but we included the events before 1900. This data is unreliable and very sparse, as can be seen above. If we restrict to events after 1900, the trend is much less prominent."
   ]
  },
  {
   "cell_type": "code",
   "execution_count": 253,
   "metadata": {},
   "outputs": [
    {
     "data": {
      "image/png": "[encoded data removed]",
      "text/plain": [
       "<Figure size 720x360 with 1 Axes>"
      ]
     },
     "metadata": {},
     "output_type": "display_data"
    }
   ],
   "source": [
    "magnitud_ms = df_clean[(~df_clean['mag_ms'].isna()) & (df_clean['year'] > 1900)].sort_values('mag_ms')\n",
    "\n",
    "g1 = sns.lmplot(y='mag_ms', x='year', data=magnitud_ms, aspect=2)\n",
    "g1.set(ylabel='Magnitude [Ms]')\n",
    "\n",
    "plt.show()"
   ]
  },
  {
   "cell_type": "markdown",
   "metadata": {},
   "source": [
    "Now we see only a slight decline in the average magnitude. Let us check the __Pearson correlation coefficient__ of magnitude and year."
   ]
  },
  {
   "cell_type": "code",
   "execution_count": 254,
   "metadata": {},
   "outputs": [],
   "source": [
    "def pearson_r(x, y):\n",
    "    \"\"\"Compute Pearson correlation coefficient between two arrays.\"\"\"\n",
    "    # Compute correlation matrix: corr_mat\n",
    "    corr_mat = np.corrcoef(x, y)\n",
    "\n",
    "    # Return entry [0,1]\n",
    "    return corr_mat[0,1]"
   ]
  },
  {
   "cell_type": "code",
   "execution_count": 255,
   "metadata": {},
   "outputs": [
    {
     "data": {
      "text/plain": [
       "-0.0848799103150612"
      ]
     },
     "execution_count": 255,
     "metadata": {},
     "output_type": "execute_result"
    }
   ],
   "source": [
    "pearson_r(magnitud_ms['year'].values,magnitud_ms['mag_ms'].values)"
   ]
  },
  {
   "cell_type": "markdown",
   "metadata": {},
   "source": [
    "The values is small, suggesting there is no strong negative correlation between magnitude and year. \n",
    "\n",
    "We can also take a look at the spatial distribution of magnitudes with a simple scatter plot. "
   ]
  },
  {
   "cell_type": "code",
   "execution_count": 106,
   "metadata": {},
   "outputs": [
    {
     "data": {
      "image/png": "[encoded data removed]",
      "text/plain": [
       "<Figure size 414.975x360 with 1 Axes>"
      ]
     },
     "metadata": {},
     "output_type": "display_data"
    }
   ],
   "source": [
    "g2 = sns.relplot(x='longitude', y='latitude', data=df, kind='scatter', size='mag_ms', hue='mag_ms')\n",
    "\n",
    "plt.show()"
   ]
  },
  {
   "cell_type": "markdown",
   "metadata": {},
   "source": [
    "In order to look like the usual Mercator world map projection, we would need to rescale the axis and do an overlay with Chile's territory. Thankfully, we can use the library `folium` to create a map with the distribution of major earthquakes in Chile. Let us generate an interactive map of all major events since 1950 that the magnitude Ms has been recorded."
   ]
  },
  {
   "cell_type": "code",
   "execution_count": 256,
   "metadata": {},
   "outputs": [
    {
     "data": {
      "text/html": [
       "<div style=\"width:100%;\"><div style=\"position:relative;width:100%;height:0;padding-bottom:60%;\"><span style=\"color:#565656\">Make this Notebook Trusted to load map: File -> Trust Notebook</span><iframe src=\"about:blank\" style=\"position:absolute;width:100%;height:100%;left:0;top:0;border:none !important;\" data-html=%3C%21DOCTYPE%20html%3E%0A%3Chead%3E%20%20%20%20%0A%20%20%20%20%3Cmeta%20http-equiv%3D%22content-type%22%20content%3D%22text/html%3B%20charset%3DUTF-8%22%20/%3E%0A%20%20%20%20%0A%20%20%20%20%20%20%20%20%3Cscript%3E%0A%20%20%20%20%20%20%20%20%20%20%20%20L_NO_TOUCH%20%3D%20false%3B%0A%20%20%20%20%20%20%20%20%20%20%20%20L_DISABLE_3D%20%3D%20false%3B%0A%20%20%20%20%20%20%20%20%3C/script%3E%0A%20%20%20%20%0A%20%20%20%20%3Cstyle%3Ehtml%2C%20body%20%7Bwidth%3A%20100%25%3Bheight%3A%20100%25%3Bmargin%3A%200%3Bpadding%3A%200%3B%7D%3C/style%3E%0A%20%20%20%20%3Cstyle%3E%23map%20%7Bposition%3Aabsolute%3Btop%3A0%3Bbottom%3A0%3Bright%3A0%3Bleft%3A0%3B%7D%3C/style%3E%0A%20%20%20%20%3Cscript%20src%3D%22https%3A//cdn.jsdelivr.net/npm/leaflet%401.6.0/dist/leaflet.js%22%3E%3C/script%3E%0A%20%20%20%20%3Cscript%20src%3D%22https%3A//code.jquery.com/jquery-1.12.4.min.js%22%3E%3C/script%3E%0A%20%20%20%20%3Cscript%20src%3D%22https%3A//maxcdn.bootstrapcdn.com/bootstrap/3.2.0/js/bootstrap.min.js%22%3E%3C/script%3E%0A%20%20%20%20%3Cscript%20src%3D%22https%3A//cdnjs.cloudflare.com/ajax/libs/Leaflet.awesome-markers/2.0.2/leaflet.awesome-markers.js%22%3E%3C/script%3E%0A%20%20%20%20%3Clink%20rel%3D%22stylesheet%22%20href%3D%22https%3A//cdn.jsdelivr.net/npm/leaflet%401.6.0/dist/leaflet.css%22/%3E%0A%20%20%20%20%3Clink%20rel%3D%22stylesheet%22%20href%3D%22https%3A//maxcdn.bootstrapcdn.com/bootstrap/3.2.0/css/bootstrap.min.css%22/%3E%0A%20%20%20%20%3Clink%20rel%3D%22stylesheet%22%20href%3D%22https%3A//maxcdn.bootstrapcdn.com/bootstrap/3.2.0/css/bootstrap-theme.min.css%22/%3E%0A%20%20%20%20%3Clink%20rel%3D%22stylesheet%22%20href%3D%22https%3A//maxcdn.bootstrapcdn.com/font-awesome/4.6.3/css/font-awesome.min.css%22/%3E%0A%20%20%20%20%3Clink%20rel%3D%22stylesheet%22%20href%3D%22https%3A//cdnjs.cloudflare.com/ajax/libs/Leaflet.awesome-markers/2.0.2/leaflet.awesome-markers.css%22/%3E%0A%20%20%20%20%3Clink%20rel%3D%22stylesheet%22%20href%3D%22https%3A//cdn.jsdelivr.net/gh/python-visualization/folium/folium/templates/leaflet.awesome.rotate.min.css%22/%3E%0A%20%20%20%20%0A%20%20%20%20%20%20%20%20%20%20%20%20%3Cmeta%20name%3D%22viewport%22%20content%3D%22width%3Ddevice-width%2C%0A%20%20%20%20%20%20%20%20%20%20%20%20%20%20%20%20initial-scale%3D1.0%2C%20maximum-scale%3D1.0%2C%20user-scalable%3Dno%22%20/%3E%0A%20%20%20%20%20%20%20%20%20%20%20%20%3Cstyle%3E%0A%20%20%20%20%20%20%20%20%20%20%20%20%20%20%20%20%23map_f0ed86451b5240a9bcb5fed8985c8aeb%20%7B%0A%20%20%20%20%20%20%20%20%20%20%20%20%20%20%20%20%20%20%20%20position%3A%20relative%3B%0A%20%20%20%20%20%20%20%20%20%20%20%20%20%20%20%20%20%20%20%20width%3A%20100.0%25%3B%0A%20%20%20%20%20%20%20%20%20%20%20%20%20%20%20%20%20%20%20%20height%3A%20100.0%25%3B%0A%20%20%20%20%20%20%20%20%20%20%20%20%20%20%20%20%20%20%20%20left%3A%200.0%25%3B%0A%20%20%20%20%20%20%20%20%20%20%20%20%20%20%20%20%20%20%20%20top%3A%200.0%25%3B%0A%20%20%20%20%20%20%20%20%20%20%20%20%20%20%20%20%7D%0A%20%20%20%20%20%20%20%20%20%20%20%20%3C/style%3E%0A%20%20%20%20%20%20%20%20%0A%3C/head%3E%0A%3Cbody%3E%20%20%20%20%0A%20%20%20%20%0A%20%20%20%20%20%20%20%20%20%20%20%20%3Cdiv%20class%3D%22folium-map%22%20id%3D%22map_f0ed86451b5240a9bcb5fed8985c8aeb%22%20%3E%3C/div%3E%0A%20%20%20%20%20%20%20%20%0A%3C/body%3E%0A%3Cscript%3E%20%20%20%20%0A%20%20%20%20%0A%20%20%20%20%20%20%20%20%20%20%20%20var%20map_f0ed86451b5240a9bcb5fed8985c8aeb%20%3D%20L.map%28%0A%20%20%20%20%20%20%20%20%20%20%20%20%20%20%20%20%22map_f0ed86451b5240a9bcb5fed8985c8aeb%22%2C%0A%20%20%20%20%20%20%20%20%20%20%20%20%20%20%20%20%7B%0A%20%20%20%20%20%20%20%20%20%20%20%20%20%20%20%20%20%20%20%20center%3A%20%5B-29.52561111111111%2C%20-71.35111111111111%5D%2C%0A%20%20%20%20%20%20%20%20%20%20%20%20%20%20%20%20%20%20%20%20crs%3A%20L.CRS.EPSG3857%2C%0A%20%20%20%20%20%20%20%20%20%20%20%20%20%20%20%20%20%20%20%20zoom%3A%204%2C%0A%20%20%20%20%20%20%20%20%20%20%20%20%20%20%20%20%20%20%20%20zoomControl%3A%20true%2C%0A%20%20%20%20%20%20%20%20%20%20%20%20%20%20%20%20%20%20%20%20preferCanvas%3A%20false%2C%0A%20%20%20%20%20%20%20%20%20%20%20%20%20%20%20%20%7D%0A%20%20%20%20%20%20%20%20%20%20%20%20%29%3B%0A%20%20%20%20%20%20%20%20%20%20%20%20L.control.scale%28%29.addTo%28map_f0ed86451b5240a9bcb5fed8985c8aeb%29%3B%0A%0A%20%20%20%20%20%20%20%20%20%20%20%20%0A%0A%20%20%20%20%20%20%20%20%0A%20%20%20%20%0A%20%20%20%20%20%20%20%20%20%20%20%20var%20tile_layer_19310d11dc8840e88f89e4c6bebd56d1%20%3D%20L.tileLayer%28%0A%20%20%20%20%20%20%20%20%20%20%20%20%20%20%20%20%22https%3A//stamen-tiles-%7Bs%7D.a.ssl.fastly.net/terrain/%7Bz%7D/%7Bx%7D/%7By%7D.jpg%22%2C%0A%20%20%20%20%20%20%20%20%20%20%20%20%20%20%20%20%7B%22attribution%22%3A%20%22Map%20tiles%20by%20%5Cu003ca%20href%3D%5C%22http%3A//stamen.com%5C%22%5Cu003eStamen%20Design%5Cu003c/a%5Cu003e%2C%20under%20%5Cu003ca%20href%3D%5C%22http%3A//creativecommons.org/licenses/by/3.0%5C%22%5Cu003eCC%20BY%203.0%5Cu003c/a%5Cu003e.%20Data%20by%20%5Cu0026copy%3B%20%5Cu003ca%20href%3D%5C%22http%3A//openstreetmap.org%5C%22%5Cu003eOpenStreetMap%5Cu003c/a%5Cu003e%2C%20under%20%5Cu003ca%20href%3D%5C%22http%3A//creativecommons.org/licenses/by-sa/3.0%5C%22%5Cu003eCC%20BY%20SA%5Cu003c/a%5Cu003e.%22%2C%20%22detectRetina%22%3A%20false%2C%20%22maxNativeZoom%22%3A%2018%2C%20%22maxZoom%22%3A%2018%2C%20%22minZoom%22%3A%200%2C%20%22noWrap%22%3A%20false%2C%20%22opacity%22%3A%201%2C%20%22subdomains%22%3A%20%22abc%22%2C%20%22tms%22%3A%20false%7D%0A%20%20%20%20%20%20%20%20%20%20%20%20%29.addTo%28map_f0ed86451b5240a9bcb5fed8985c8aeb%29%3B%0A%20%20%20%20%20%20%20%20%0A%20%20%20%20%0A%20%20%20%20%20%20%20%20%20%20%20%20var%20marker_b0618a17169243c0a2f623ed5ae87e4d%20%3D%20L.marker%28%0A%20%20%20%20%20%20%20%20%20%20%20%20%20%20%20%20%5B-36.5%2C%20-72.6%5D%2C%0A%20%20%20%20%20%20%20%20%20%20%20%20%20%20%20%20%7B%7D%0A%20%20%20%20%20%20%20%20%20%20%20%20%29.addTo%28map_f0ed86451b5240a9bcb5fed8985c8aeb%29%3B%0A%20%20%20%20%20%20%20%20%0A%20%20%20%20%0A%20%20%20%20%20%20%20%20var%20popup_736e67f711f841f49610d69c3fea0aeb%20%3D%20L.popup%28%7B%22maxWidth%22%3A%20%22100%25%22%7D%29%3B%0A%0A%20%20%20%20%20%20%20%20%0A%20%20%20%20%20%20%20%20%20%20%20%20var%20html_36d502814c9f42b1a55b48c138a85d71%20%3D%20%24%28%60%3Cdiv%20id%3D%22html_36d502814c9f42b1a55b48c138a85d71%22%20style%3D%22width%3A%20100.0%25%3B%20height%3A%20100.0%25%3B%22%3EYear%3A%201953%20Magnitude%20Ms%3A%207.6%3C/div%3E%60%29%5B0%5D%3B%0A%20%20%20%20%20%20%20%20%20%20%20%20popup_736e67f711f841f49610d69c3fea0aeb.setContent%28html_36d502814c9f42b1a55b48c138a85d71%29%3B%0A%20%20%20%20%20%20%20%20%0A%0A%20%20%20%20%20%20%20%20marker_b0618a17169243c0a2f623ed5ae87e4d.bindPopup%28popup_736e67f711f841f49610d69c3fea0aeb%29%0A%20%20%20%20%20%20%20%20%3B%0A%0A%20%20%20%20%20%20%20%20%0A%20%20%20%20%0A%20%20%20%20%0A%20%20%20%20%20%20%20%20%20%20%20%20var%20marker_b85dbd432cc04ccaa9e4547881819811%20%3D%20L.marker%28%0A%20%20%20%20%20%20%20%20%20%20%20%20%20%20%20%20%5B-22.1%2C%20-68.7%5D%2C%0A%20%20%20%20%20%20%20%20%20%20%20%20%20%20%20%20%7B%7D%0A%20%20%20%20%20%20%20%20%20%20%20%20%29.addTo%28map_f0ed86451b5240a9bcb5fed8985c8aeb%29%3B%0A%20%20%20%20%20%20%20%20%0A%20%20%20%20%0A%20%20%20%20%20%20%20%20var%20popup_3f2a4c17c0744333ae838ee7caabfac9%20%3D%20L.popup%28%7B%22maxWidth%22%3A%20%22100%25%22%7D%29%3B%0A%0A%20%20%20%20%20%20%20%20%0A%20%20%20%20%20%20%20%20%20%20%20%20var%20html_8ef878f031fb469693c841dc595f2260%20%3D%20%24%28%60%3Cdiv%20id%3D%22html_8ef878f031fb469693c841dc595f2260%22%20style%3D%22width%3A%20100.0%25%3B%20height%3A%20100.0%25%3B%22%3EYear%3A%201953%20Magnitude%20Ms%3A%207.4%3C/div%3E%60%29%5B0%5D%3B%0A%20%20%20%20%20%20%20%20%20%20%20%20popup_3f2a4c17c0744333ae838ee7caabfac9.setContent%28html_8ef878f031fb469693c841dc595f2260%29%3B%0A%20%20%20%20%20%20%20%20%0A%0A%20%20%20%20%20%20%20%20marker_b85dbd432cc04ccaa9e4547881819811.bindPopup%28popup_3f2a4c17c0744333ae838ee7caabfac9%29%0A%20%20%20%20%20%20%20%20%3B%0A%0A%20%20%20%20%20%20%20%20%0A%20%20%20%20%0A%20%20%20%20%0A%20%20%20%20%20%20%20%20%20%20%20%20var%20marker_35fabe9493ba4a38997685d727f4f31c%20%3D%20L.marker%28%0A%20%20%20%20%20%20%20%20%20%20%20%20%20%20%20%20%5B-29.0%2C%20-70.5%5D%2C%0A%20%20%20%20%20%20%20%20%20%20%20%20%20%20%20%20%7B%7D%0A%20%20%20%20%20%20%20%20%20%20%20%20%29.addTo%28map_f0ed86451b5240a9bcb5fed8985c8aeb%29%3B%0A%20%20%20%20%20%20%20%20%0A%20%20%20%20%0A%20%20%20%20%20%20%20%20var%20popup_14b86021ea6247f089d0a19802fce522%20%3D%20L.popup%28%7B%22maxWidth%22%3A%20%22100%25%22%7D%29%3B%0A%0A%20%20%20%20%20%20%20%20%0A%20%20%20%20%20%20%20%20%20%20%20%20var%20html_7d934001bd6040179e60e550738c4ff7%20%3D%20%24%28%60%3Cdiv%20id%3D%22html_7d934001bd6040179e60e550738c4ff7%22%20style%3D%22width%3A%20100.0%25%3B%20height%3A%20100.0%25%3B%22%3EYear%3A%201954%20Magnitude%20Ms%3A%207.7%3C/div%3E%60%29%5B0%5D%3B%0A%20%20%20%20%20%20%20%20%20%20%20%20popup_14b86021ea6247f089d0a19802fce522.setContent%28html_7d934001bd6040179e60e550738c4ff7%29%3B%0A%20%20%20%20%20%20%20%20%0A%0A%20%20%20%20%20%20%20%20marker_35fabe9493ba4a38997685d727f4f31c.bindPopup%28popup_14b86021ea6247f089d0a19802fce522%29%0A%20%20%20%20%20%20%20%20%3B%0A%0A%20%20%20%20%20%20%20%20%0A%20%20%20%20%0A%20%20%20%20%0A%20%20%20%20%20%20%20%20%20%20%20%20var%20marker_cb734ca44927479b9eae963b1473c6bc%20%3D%20L.marker%28%0A%20%20%20%20%20%20%20%20%20%20%20%20%20%20%20%20%5B-30.0%2C%20-72.0%5D%2C%0A%20%20%20%20%20%20%20%20%20%20%20%20%20%20%20%20%7B%7D%0A%20%20%20%20%20%20%20%20%20%20%20%20%29.addTo%28map_f0ed86451b5240a9bcb5fed8985c8aeb%29%3B%0A%20%20%20%20%20%20%20%20%0A%20%20%20%20%0A%20%20%20%20%20%20%20%20var%20popup_4406c29c6f5149d9b668301c15b9819f%20%3D%20L.popup%28%7B%22maxWidth%22%3A%20%22100%25%22%7D%29%3B%0A%0A%20%20%20%20%20%20%20%20%0A%20%20%20%20%20%20%20%20%20%20%20%20var%20html_3b506cf5c2d2471dbc73e32ea9f116ab%20%3D%20%24%28%60%3Cdiv%20id%3D%22html_3b506cf5c2d2471dbc73e32ea9f116ab%22%20style%3D%22width%3A%20100.0%25%3B%20height%3A%20100.0%25%3B%22%3EYear%3A%201955%20Magnitude%20Ms%3A%207.1%3C/div%3E%60%29%5B0%5D%3B%0A%20%20%20%20%20%20%20%20%20%20%20%20popup_4406c29c6f5149d9b668301c15b9819f.setContent%28html_3b506cf5c2d2471dbc73e32ea9f116ab%29%3B%0A%20%20%20%20%20%20%20%20%0A%0A%20%20%20%20%20%20%20%20marker_cb734ca44927479b9eae963b1473c6bc.bindPopup%28popup_4406c29c6f5149d9b668301c15b9819f%29%0A%20%20%20%20%20%20%20%20%3B%0A%0A%20%20%20%20%20%20%20%20%0A%20%20%20%20%0A%20%20%20%20%0A%20%20%20%20%20%20%20%20%20%20%20%20var%20marker_716eb4b30be84b39a3f9ffec1c6fc1e8%20%3D%20L.marker%28%0A%20%20%20%20%20%20%20%20%20%20%20%20%20%20%20%20%5B-19.0%2C%20-70.0%5D%2C%0A%20%20%20%20%20%20%20%20%20%20%20%20%20%20%20%20%7B%7D%0A%20%20%20%20%20%20%20%20%20%20%20%20%29.addTo%28map_f0ed86451b5240a9bcb5fed8985c8aeb%29%3B%0A%20%20%20%20%20%20%20%20%0A%20%20%20%20%0A%20%20%20%20%20%20%20%20var%20popup_515d2faebd1f4b2482c1788273d17b4d%20%3D%20L.popup%28%7B%22maxWidth%22%3A%20%22100%25%22%7D%29%3B%0A%0A%20%20%20%20%20%20%20%20%0A%20%20%20%20%20%20%20%20%20%20%20%20var%20html_3bc38f93e4e94deb90a8de69886684f8%20%3D%20%24%28%60%3Cdiv%20id%3D%22html_3bc38f93e4e94deb90a8de69886684f8%22%20style%3D%22width%3A%20100.0%25%3B%20height%3A%20100.0%25%3B%22%3EYear%3A%201956%20Magnitude%20Ms%3A%207.1%3C/div%3E%60%29%5B0%5D%3B%0A%20%20%20%20%20%20%20%20%20%20%20%20popup_515d2faebd1f4b2482c1788273d17b4d.setContent%28html_3bc38f93e4e94deb90a8de69886684f8%29%3B%0A%20%20%20%20%20%20%20%20%0A%0A%20%20%20%20%20%20%20%20marker_716eb4b30be84b39a3f9ffec1c6fc1e8.bindPopup%28popup_515d2faebd1f4b2482c1788273d17b4d%29%0A%20%20%20%20%20%20%20%20%3B%0A%0A%20%20%20%20%20%20%20%20%0A%20%20%20%20%0A%20%20%20%20%0A%20%20%20%20%20%20%20%20%20%20%20%20var%20marker_c8ec21ea098f4621948570e0fdba332b%20%3D%20L.marker%28%0A%20%20%20%20%20%20%20%20%20%20%20%20%20%20%20%20%5B-25.5%2C%20-68.5%5D%2C%0A%20%20%20%20%20%20%20%20%20%20%20%20%20%20%20%20%7B%7D%0A%20%20%20%20%20%20%20%20%20%20%20%20%29.addTo%28map_f0ed86451b5240a9bcb5fed8985c8aeb%29%3B%0A%20%20%20%20%20%20%20%20%0A%20%20%20%20%0A%20%20%20%20%20%20%20%20var%20popup_d653953828c640baa3116471039de15d%20%3D%20L.popup%28%7B%22maxWidth%22%3A%20%22100%25%22%7D%29%3B%0A%0A%20%20%20%20%20%20%20%20%0A%20%20%20%20%20%20%20%20%20%20%20%20var%20html_6e97aa20fbe84e1cb7ce0d2901ba3dae%20%3D%20%24%28%60%3Cdiv%20id%3D%22html_6e97aa20fbe84e1cb7ce0d2901ba3dae%22%20style%3D%22width%3A%20100.0%25%3B%20height%3A%20100.0%25%3B%22%3EYear%3A%201956%20Magnitude%20Ms%3A%207.0%3C/div%3E%60%29%5B0%5D%3B%0A%20%20%20%20%20%20%20%20%20%20%20%20popup_d653953828c640baa3116471039de15d.setContent%28html_6e97aa20fbe84e1cb7ce0d2901ba3dae%29%3B%0A%20%20%20%20%20%20%20%20%0A%0A%20%20%20%20%20%20%20%20marker_c8ec21ea098f4621948570e0fdba332b.bindPopup%28popup_d653953828c640baa3116471039de15d%29%0A%20%20%20%20%20%20%20%20%3B%0A%0A%20%20%20%20%20%20%20%20%0A%20%20%20%20%0A%20%20%20%20%0A%20%20%20%20%20%20%20%20%20%20%20%20var%20marker_4d0accb4d6704a079c4348c1d9d94c7b%20%3D%20L.marker%28%0A%20%20%20%20%20%20%20%20%20%20%20%20%20%20%20%20%5B-23.5%2C%20-71.5%5D%2C%0A%20%20%20%20%20%20%20%20%20%20%20%20%20%20%20%20%7B%7D%0A%20%20%20%20%20%20%20%20%20%20%20%20%29.addTo%28map_f0ed86451b5240a9bcb5fed8985c8aeb%29%3B%0A%20%20%20%20%20%20%20%20%0A%20%20%20%20%0A%20%20%20%20%20%20%20%20var%20popup_886f67715c504c5bb6874dccc0a3b404%20%3D%20L.popup%28%7B%22maxWidth%22%3A%20%22100%25%22%7D%29%3B%0A%0A%20%20%20%20%20%20%20%20%0A%20%20%20%20%20%20%20%20%20%20%20%20var%20html_409a0ebb07854e6288fa43b7affdf746%20%3D%20%24%28%60%3Cdiv%20id%3D%22html_409a0ebb07854e6288fa43b7affdf746%22%20style%3D%22width%3A%20100.0%25%3B%20height%3A%20100.0%25%3B%22%3EYear%3A%201957%20Magnitude%20Ms%3A%207.0%3C/div%3E%60%29%5B0%5D%3B%0A%20%20%20%20%20%20%20%20%20%20%20%20popup_886f67715c504c5bb6874dccc0a3b404.setContent%28html_409a0ebb07854e6288fa43b7affdf746%29%3B%0A%20%20%20%20%20%20%20%20%0A%0A%20%20%20%20%20%20%20%20marker_4d0accb4d6704a079c4348c1d9d94c7b.bindPopup%28popup_886f67715c504c5bb6874dccc0a3b404%29%0A%20%20%20%20%20%20%20%20%3B%0A%0A%20%20%20%20%20%20%20%20%0A%20%20%20%20%0A%20%20%20%20%0A%20%20%20%20%20%20%20%20%20%20%20%20var%20marker_6fe851927b694f87863083ffda029400%20%3D%20L.marker%28%0A%20%20%20%20%20%20%20%20%20%20%20%20%20%20%20%20%5B-20.42%2C%20-69.0%5D%2C%0A%20%20%20%20%20%20%20%20%20%20%20%20%20%20%20%20%7B%7D%0A%20%20%20%20%20%20%20%20%20%20%20%20%29.addTo%28map_f0ed86451b5240a9bcb5fed8985c8aeb%29%3B%0A%20%20%20%20%20%20%20%20%0A%20%20%20%20%0A%20%20%20%20%20%20%20%20var%20popup_f284c49c809d432892f9531128598d40%20%3D%20L.popup%28%7B%22maxWidth%22%3A%20%22100%25%22%7D%29%3B%0A%0A%20%20%20%20%20%20%20%20%0A%20%20%20%20%20%20%20%20%20%20%20%20var%20html_ea7bb0e493a04fe28704ddd1f03dd9b0%20%3D%20%24%28%60%3Cdiv%20id%3D%22html_ea7bb0e493a04fe28704ddd1f03dd9b0%22%20style%3D%22width%3A%20100.0%25%3B%20height%3A%20100.0%25%3B%22%3EYear%3A%201959%20Magnitude%20Ms%3A%207.5%3C/div%3E%60%29%5B0%5D%3B%0A%20%20%20%20%20%20%20%20%20%20%20%20popup_f284c49c809d432892f9531128598d40.setContent%28html_ea7bb0e493a04fe28704ddd1f03dd9b0%29%3B%0A%20%20%20%20%20%20%20%20%0A%0A%20%20%20%20%20%20%20%20marker_6fe851927b694f87863083ffda029400.bindPopup%28popup_f284c49c809d432892f9531128598d40%29%0A%20%20%20%20%20%20%20%20%3B%0A%0A%20%20%20%20%20%20%20%20%0A%20%20%20%20%0A%20%20%20%20%0A%20%20%20%20%20%20%20%20%20%20%20%20var%20marker_3728be8c24fa4d7ea597e9f651e1556b%20%3D%20L.marker%28%0A%20%20%20%20%20%20%20%20%20%20%20%20%20%20%20%20%5B-37.5%2C%20-73.5%5D%2C%0A%20%20%20%20%20%20%20%20%20%20%20%20%20%20%20%20%7B%7D%0A%20%20%20%20%20%20%20%20%20%20%20%20%29.addTo%28map_f0ed86451b5240a9bcb5fed8985c8aeb%29%3B%0A%20%20%20%20%20%20%20%20%0A%20%20%20%20%0A%20%20%20%20%20%20%20%20var%20popup_7f73272d58a24888b0be98515b49ae1b%20%3D%20L.popup%28%7B%22maxWidth%22%3A%20%22100%25%22%7D%29%3B%0A%0A%20%20%20%20%20%20%20%20%0A%20%20%20%20%20%20%20%20%20%20%20%20var%20html_8907ce2ba00b477483866a1db4305cfe%20%3D%20%24%28%60%3Cdiv%20id%3D%22html_8907ce2ba00b477483866a1db4305cfe%22%20style%3D%22width%3A%20100.0%25%3B%20height%3A%20100.0%25%3B%22%3EYear%3A%201960%20Magnitude%20Ms%3A%207.3%3C/div%3E%60%29%5B0%5D%3B%0A%20%20%20%20%20%20%20%20%20%20%20%20popup_7f73272d58a24888b0be98515b49ae1b.setContent%28html_8907ce2ba00b477483866a1db4305cfe%29%3B%0A%20%20%20%20%20%20%20%20%0A%0A%20%20%20%20%20%20%20%20marker_3728be8c24fa4d7ea597e9f651e1556b.bindPopup%28popup_7f73272d58a24888b0be98515b49ae1b%29%0A%20%20%20%20%20%20%20%20%3B%0A%0A%20%20%20%20%20%20%20%20%0A%20%20%20%20%0A%20%20%20%20%0A%20%20%20%20%20%20%20%20%20%20%20%20var%20marker_0c5311fbe3da4dd0b2b103cba8cc6136%20%3D%20L.marker%28%0A%20%20%20%20%20%20%20%20%20%20%20%20%20%20%20%20%5B-37.5%2C%20-73.0%5D%2C%0A%20%20%20%20%20%20%20%20%20%20%20%20%20%20%20%20%7B%7D%0A%20%20%20%20%20%20%20%20%20%20%20%20%29.addTo%28map_f0ed86451b5240a9bcb5fed8985c8aeb%29%3B%0A%20%20%20%20%20%20%20%20%0A%20%20%20%20%0A%20%20%20%20%20%20%20%20var%20popup_e18affe00a47439ca12abfaa1d87cb32%20%3D%20L.popup%28%7B%22maxWidth%22%3A%20%22100%25%22%7D%29%3B%0A%0A%20%20%20%20%20%20%20%20%0A%20%20%20%20%20%20%20%20%20%20%20%20var%20html_a7e2cb7e49534f46b44dbf9418c01922%20%3D%20%24%28%60%3Cdiv%20id%3D%22html_a7e2cb7e49534f46b44dbf9418c01922%22%20style%3D%22width%3A%20100.0%25%3B%20height%3A%20100.0%25%3B%22%3EYear%3A%201960%20Magnitude%20Ms%3A%207.3%3C/div%3E%60%29%5B0%5D%3B%0A%20%20%20%20%20%20%20%20%20%20%20%20popup_e18affe00a47439ca12abfaa1d87cb32.setContent%28html_a7e2cb7e49534f46b44dbf9418c01922%29%3B%0A%20%20%20%20%20%20%20%20%0A%0A%20%20%20%20%20%20%20%20marker_0c5311fbe3da4dd0b2b103cba8cc6136.bindPopup%28popup_e18affe00a47439ca12abfaa1d87cb32%29%0A%20%20%20%20%20%20%20%20%3B%0A%0A%20%20%20%20%20%20%20%20%0A%20%20%20%20%0A%20%20%20%20%0A%20%20%20%20%20%20%20%20%20%20%20%20var%20marker_90b8487a5dad4bc98f40b2a9c68bd495%20%3D%20L.marker%28%0A%20%20%20%20%20%20%20%20%20%20%20%20%20%20%20%20%5B-39.5%2C%20-74.5%5D%2C%0A%20%20%20%20%20%20%20%20%20%20%20%20%20%20%20%20%7B%7D%0A%20%20%20%20%20%20%20%20%20%20%20%20%29.addTo%28map_f0ed86451b5240a9bcb5fed8985c8aeb%29%3B%0A%20%20%20%20%20%20%20%20%0A%20%20%20%20%0A%20%20%20%20%20%20%20%20var%20popup_ddf60db79cd24ba6be939feb0e6a9627%20%3D%20L.popup%28%7B%22maxWidth%22%3A%20%22100%25%22%7D%29%3B%0A%0A%20%20%20%20%20%20%20%20%0A%20%20%20%20%20%20%20%20%20%20%20%20var%20html_f5ef74ab50984a9baeebf763a8c61582%20%3D%20%24%28%60%3Cdiv%20id%3D%22html_f5ef74ab50984a9baeebf763a8c61582%22%20style%3D%22width%3A%20100.0%25%3B%20height%3A%20100.0%25%3B%22%3EYear%3A%201960%20Magnitude%20Ms%3A%208.5%3C/div%3E%60%29%5B0%5D%3B%0A%20%20%20%20%20%20%20%20%20%20%20%20popup_ddf60db79cd24ba6be939feb0e6a9627.setContent%28html_f5ef74ab50984a9baeebf763a8c61582%29%3B%0A%20%20%20%20%20%20%20%20%0A%0A%20%20%20%20%20%20%20%20marker_90b8487a5dad4bc98f40b2a9c68bd495.bindPopup%28popup_ddf60db79cd24ba6be939feb0e6a9627%29%0A%20%20%20%20%20%20%20%20%3B%0A%0A%20%20%20%20%20%20%20%20%0A%20%20%20%20%0A%20%20%20%20%0A%20%20%20%20%20%20%20%20%20%20%20%20var%20marker_80c40f7e52bf4f9d8ece230df8da7b77%20%3D%20L.marker%28%0A%20%20%20%20%20%20%20%20%20%20%20%20%20%20%20%20%5B-38.0%2C%20-73.5%5D%2C%0A%20%20%20%20%20%20%20%20%20%20%20%20%20%20%20%20%7B%7D%0A%20%20%20%20%20%20%20%20%20%20%20%20%29.addTo%28map_f0ed86451b5240a9bcb5fed8985c8aeb%29%3B%0A%20%20%20%20%20%20%20%20%0A%20%20%20%20%0A%20%20%20%20%20%20%20%20var%20popup_af5a8dd891f74ba3a99c0bb0f594f142%20%3D%20L.popup%28%7B%22maxWidth%22%3A%20%22100%25%22%7D%29%3B%0A%0A%20%20%20%20%20%20%20%20%0A%20%20%20%20%20%20%20%20%20%20%20%20var%20html_33784a9ef76d4e6c95fd06cb0fcf45dc%20%3D%20%24%28%60%3Cdiv%20id%3D%22html_33784a9ef76d4e6c95fd06cb0fcf45dc%22%20style%3D%22width%3A%20100.0%25%3B%20height%3A%20100.0%25%3B%22%3EYear%3A%201960%20Magnitude%20Ms%3A%207.3%3C/div%3E%60%29%5B0%5D%3B%0A%20%20%20%20%20%20%20%20%20%20%20%20popup_af5a8dd891f74ba3a99c0bb0f594f142.setContent%28html_33784a9ef76d4e6c95fd06cb0fcf45dc%29%3B%0A%20%20%20%20%20%20%20%20%0A%0A%20%20%20%20%20%20%20%20marker_80c40f7e52bf4f9d8ece230df8da7b77.bindPopup%28popup_af5a8dd891f74ba3a99c0bb0f594f142%29%0A%20%20%20%20%20%20%20%20%3B%0A%0A%20%20%20%20%20%20%20%20%0A%20%20%20%20%0A%20%20%20%20%0A%20%20%20%20%20%20%20%20%20%20%20%20var%20marker_871e5aaae33246f6a8f91668da65238e%20%3D%20L.marker%28%0A%20%20%20%20%20%20%20%20%20%20%20%20%20%20%20%20%5B-38.5%2C%20-75.1%5D%2C%0A%20%20%20%20%20%20%20%20%20%20%20%20%20%20%20%20%7B%7D%0A%20%20%20%20%20%20%20%20%20%20%20%20%29.addTo%28map_f0ed86451b5240a9bcb5fed8985c8aeb%29%3B%0A%20%20%20%20%20%20%20%20%0A%20%20%20%20%0A%20%20%20%20%20%20%20%20var%20popup_262dc4a358ff44a0905c64d6c5a72e33%20%3D%20L.popup%28%7B%22maxWidth%22%3A%20%22100%25%22%7D%29%3B%0A%0A%20%20%20%20%20%20%20%20%0A%20%20%20%20%20%20%20%20%20%20%20%20var%20html_158c3c2971bd48a6b79ce5c6eb706b95%20%3D%20%24%28%60%3Cdiv%20id%3D%22html_158c3c2971bd48a6b79ce5c6eb706b95%22%20style%3D%22width%3A%20100.0%25%3B%20height%3A%20100.0%25%3B%22%3EYear%3A%201960%20Magnitude%20Ms%3A%207.4%3C/div%3E%60%29%5B0%5D%3B%0A%20%20%20%20%20%20%20%20%20%20%20%20popup_262dc4a358ff44a0905c64d6c5a72e33.setContent%28html_158c3c2971bd48a6b79ce5c6eb706b95%29%3B%0A%20%20%20%20%20%20%20%20%0A%0A%20%20%20%20%20%20%20%20marker_871e5aaae33246f6a8f91668da65238e.bindPopup%28popup_262dc4a358ff44a0905c64d6c5a72e33%29%0A%20%20%20%20%20%20%20%20%3B%0A%0A%20%20%20%20%20%20%20%20%0A%20%20%20%20%0A%20%20%20%20%0A%20%20%20%20%20%20%20%20%20%20%20%20var%20marker_e13457c540cc42209c2d3d9bc808fbb8%20%3D%20L.marker%28%0A%20%20%20%20%20%20%20%20%20%20%20%20%20%20%20%20%5B-41.7%2C%20-75.2%5D%2C%0A%20%20%20%20%20%20%20%20%20%20%20%20%20%20%20%20%7B%7D%0A%20%20%20%20%20%20%20%20%20%20%20%20%29.addTo%28map_f0ed86451b5240a9bcb5fed8985c8aeb%29%3B%0A%20%20%20%20%20%20%20%20%0A%20%20%20%20%0A%20%20%20%20%20%20%20%20var%20popup_e0deac834de04082a2fb392a69f2cb5e%20%3D%20L.popup%28%7B%22maxWidth%22%3A%20%22100%25%22%7D%29%3B%0A%0A%20%20%20%20%20%20%20%20%0A%20%20%20%20%20%20%20%20%20%20%20%20var%20html_96f781e06a3f4a9a9c6dd071b85f5438%20%3D%20%24%28%60%3Cdiv%20id%3D%22html_96f781e06a3f4a9a9c6dd071b85f5438%22%20style%3D%22width%3A%20100.0%25%3B%20height%3A%20100.0%25%3B%22%3EYear%3A%201961%20Magnitude%20Ms%3A%207.0%3C/div%3E%60%29%5B0%5D%3B%0A%20%20%20%20%20%20%20%20%20%20%20%20popup_e0deac834de04082a2fb392a69f2cb5e.setContent%28html_96f781e06a3f4a9a9c6dd071b85f5438%29%3B%0A%20%20%20%20%20%20%20%20%0A%0A%20%20%20%20%20%20%20%20marker_e13457c540cc42209c2d3d9bc808fbb8.bindPopup%28popup_e0deac834de04082a2fb392a69f2cb5e%29%0A%20%20%20%20%20%20%20%20%3B%0A%0A%20%20%20%20%20%20%20%20%0A%20%20%20%20%0A%20%20%20%20%0A%20%20%20%20%20%20%20%20%20%20%20%20var%20marker_7e62aa3ec7ab4175b1bb0003a7b94c64%20%3D%20L.marker%28%0A%20%20%20%20%20%20%20%20%20%20%20%20%20%20%20%20%5B-37.8%2C%20-72.5%5D%2C%0A%20%20%20%20%20%20%20%20%20%20%20%20%20%20%20%20%7B%7D%0A%20%20%20%20%20%20%20%20%20%20%20%20%29.addTo%28map_f0ed86451b5240a9bcb5fed8985c8aeb%29%3B%0A%20%20%20%20%20%20%20%20%0A%20%20%20%20%0A%20%20%20%20%20%20%20%20var%20popup_eae849914a8d4f37b26a27f5cef1ff65%20%3D%20L.popup%28%7B%22maxWidth%22%3A%20%22100%25%22%7D%29%3B%0A%0A%20%20%20%20%20%20%20%20%0A%20%20%20%20%20%20%20%20%20%20%20%20var%20html_014d85cb60dd494c8738756e763f4686%20%3D%20%24%28%60%3Cdiv%20id%3D%22html_014d85cb60dd494c8738756e763f4686%22%20style%3D%22width%3A%20100.0%25%3B%20height%3A%20100.0%25%3B%22%3EYear%3A%201962%20Magnitude%20Ms%3A%207.3%3C/div%3E%60%29%5B0%5D%3B%0A%20%20%20%20%20%20%20%20%20%20%20%20popup_eae849914a8d4f37b26a27f5cef1ff65.setContent%28html_014d85cb60dd494c8738756e763f4686%29%3B%0A%20%20%20%20%20%20%20%20%0A%0A%20%20%20%20%20%20%20%20marker_7e62aa3ec7ab4175b1bb0003a7b94c64.bindPopup%28popup_eae849914a8d4f37b26a27f5cef1ff65%29%0A%20%20%20%20%20%20%20%20%3B%0A%0A%20%20%20%20%20%20%20%20%0A%20%20%20%20%0A%20%20%20%20%0A%20%20%20%20%20%20%20%20%20%20%20%20var%20marker_6203b8d9c0e0416c9d321ce292f97336%20%3D%20L.marker%28%0A%20%20%20%20%20%20%20%20%20%20%20%20%20%20%20%20%5B-23.3%2C%20-68.1%5D%2C%0A%20%20%20%20%20%20%20%20%20%20%20%20%20%20%20%20%7B%7D%0A%20%20%20%20%20%20%20%20%20%20%20%20%29.addTo%28map_f0ed86451b5240a9bcb5fed8985c8aeb%29%3B%0A%20%20%20%20%20%20%20%20%0A%20%20%20%20%0A%20%20%20%20%20%20%20%20var%20popup_8366b188c2a24409904e320dbe3de50d%20%3D%20L.popup%28%7B%22maxWidth%22%3A%20%22100%25%22%7D%29%3B%0A%0A%20%20%20%20%20%20%20%20%0A%20%20%20%20%20%20%20%20%20%20%20%20var%20html_603c09b4cfda4ca996282947f5a77e83%20%3D%20%24%28%60%3Cdiv%20id%3D%22html_603c09b4cfda4ca996282947f5a77e83%22%20style%3D%22width%3A%20100.0%25%3B%20height%3A%20100.0%25%3B%22%3EYear%3A%201962%20Magnitude%20Ms%3A%207.1%3C/div%3E%60%29%5B0%5D%3B%0A%20%20%20%20%20%20%20%20%20%20%20%20popup_8366b188c2a24409904e320dbe3de50d.setContent%28html_603c09b4cfda4ca996282947f5a77e83%29%3B%0A%20%20%20%20%20%20%20%20%0A%0A%20%20%20%20%20%20%20%20marker_6203b8d9c0e0416c9d321ce292f97336.bindPopup%28popup_8366b188c2a24409904e320dbe3de50d%29%0A%20%20%20%20%20%20%20%20%3B%0A%0A%20%20%20%20%20%20%20%20%0A%20%20%20%20%0A%20%20%20%20%0A%20%20%20%20%20%20%20%20%20%20%20%20var%20marker_f701ba54733d496789ac8267bd3e81e9%20%3D%20L.marker%28%0A%20%20%20%20%20%20%20%20%20%20%20%20%20%20%20%20%5B-25.67%2C%20-70.63%5D%2C%0A%20%20%20%20%20%20%20%20%20%20%20%20%20%20%20%20%7B%7D%0A%20%20%20%20%20%20%20%20%20%20%20%20%29.addTo%28map_f0ed86451b5240a9bcb5fed8985c8aeb%29%3B%0A%20%20%20%20%20%20%20%20%0A%20%20%20%20%0A%20%20%20%20%20%20%20%20var%20popup_8f9d4284b29d42c8bc407ae74f7f6c89%20%3D%20L.popup%28%7B%22maxWidth%22%3A%20%22100%25%22%7D%29%3B%0A%0A%20%20%20%20%20%20%20%20%0A%20%20%20%20%20%20%20%20%20%20%20%20var%20html_806668ef52054853bcbb478380836ad1%20%3D%20%24%28%60%3Cdiv%20id%3D%22html_806668ef52054853bcbb478380836ad1%22%20style%3D%22width%3A%20100.0%25%3B%20height%3A%20100.0%25%3B%22%3EYear%3A%201965%20Magnitude%20Ms%3A%207.0%3C/div%3E%60%29%5B0%5D%3B%0A%20%20%20%20%20%20%20%20%20%20%20%20popup_8f9d4284b29d42c8bc407ae74f7f6c89.setContent%28html_806668ef52054853bcbb478380836ad1%29%3B%0A%20%20%20%20%20%20%20%20%0A%0A%20%20%20%20%20%20%20%20marker_f701ba54733d496789ac8267bd3e81e9.bindPopup%28popup_8f9d4284b29d42c8bc407ae74f7f6c89%29%0A%20%20%20%20%20%20%20%20%3B%0A%0A%20%20%20%20%20%20%20%20%0A%20%20%20%20%0A%20%20%20%20%0A%20%20%20%20%20%20%20%20%20%20%20%20var%20marker_5db6d11cc3324be39efa359e3077d536%20%3D%20L.marker%28%0A%20%20%20%20%20%20%20%20%20%20%20%20%20%20%20%20%5B-32.418%2C%20-71.1%5D%2C%0A%20%20%20%20%20%20%20%20%20%20%20%20%20%20%20%20%7B%7D%0A%20%20%20%20%20%20%20%20%20%20%20%20%29.addTo%28map_f0ed86451b5240a9bcb5fed8985c8aeb%29%3B%0A%20%20%20%20%20%20%20%20%0A%20%20%20%20%0A%20%20%20%20%20%20%20%20var%20popup_3ed1c2cd853343bcb53a7810ace6b3ef%20%3D%20L.popup%28%7B%22maxWidth%22%3A%20%22100%25%22%7D%29%3B%0A%0A%20%20%20%20%20%20%20%20%0A%20%20%20%20%20%20%20%20%20%20%20%20var%20html_a1218a385873477faf0097bd344cd488%20%3D%20%24%28%60%3Cdiv%20id%3D%22html_a1218a385873477faf0097bd344cd488%22%20style%3D%22width%3A%20100.0%25%3B%20height%3A%20100.0%25%3B%22%3EYear%3A%201965%20Magnitude%20Ms%3A%207.4%3C/div%3E%60%29%5B0%5D%3B%0A%20%20%20%20%20%20%20%20%20%20%20%20popup_3ed1c2cd853343bcb53a7810ace6b3ef.setContent%28html_a1218a385873477faf0097bd344cd488%29%3B%0A%20%20%20%20%20%20%20%20%0A%0A%20%20%20%20%20%20%20%20marker_5db6d11cc3324be39efa359e3077d536.bindPopup%28popup_3ed1c2cd853343bcb53a7810ace6b3ef%29%0A%20%20%20%20%20%20%20%20%3B%0A%0A%20%20%20%20%20%20%20%20%0A%20%20%20%20%0A%20%20%20%20%0A%20%20%20%20%20%20%20%20%20%20%20%20var%20marker_1c7411e59ecf48bea426c932350492fa%20%3D%20L.marker%28%0A%20%20%20%20%20%20%20%20%20%20%20%20%20%20%20%20%5B-25.51%2C%20-70.74%5D%2C%0A%20%20%20%20%20%20%20%20%20%20%20%20%20%20%20%20%7B%7D%0A%20%20%20%20%20%20%20%20%20%20%20%20%29.addTo%28map_f0ed86451b5240a9bcb5fed8985c8aeb%29%3B%0A%20%20%20%20%20%20%20%20%0A%20%20%20%20%0A%20%20%20%20%20%20%20%20var%20popup_9a0c6ea20d314ac5af016fcb38e29258%20%3D%20L.popup%28%7B%22maxWidth%22%3A%20%22100%25%22%7D%29%3B%0A%0A%20%20%20%20%20%20%20%20%0A%20%20%20%20%20%20%20%20%20%20%20%20var%20html_585740ce21404180a920774a95832c5b%20%3D%20%24%28%60%3Cdiv%20id%3D%22html_585740ce21404180a920774a95832c5b%22%20style%3D%22width%3A%20100.0%25%3B%20height%3A%20100.0%25%3B%22%3EYear%3A%201966%20Magnitude%20Ms%3A%207.8%3C/div%3E%60%29%5B0%5D%3B%0A%20%20%20%20%20%20%20%20%20%20%20%20popup_9a0c6ea20d314ac5af016fcb38e29258.setContent%28html_585740ce21404180a920774a95832c5b%29%3B%0A%20%20%20%20%20%20%20%20%0A%0A%20%20%20%20%20%20%20%20marker_1c7411e59ecf48bea426c932350492fa.bindPopup%28popup_9a0c6ea20d314ac5af016fcb38e29258%29%0A%20%20%20%20%20%20%20%20%3B%0A%0A%20%20%20%20%20%20%20%20%0A%20%20%20%20%0A%20%20%20%20%0A%20%20%20%20%20%20%20%20%20%20%20%20var%20marker_06a84ab3ca064d01848045545bf1f16c%20%3D%20L.marker%28%0A%20%20%20%20%20%20%20%20%20%20%20%20%20%20%20%20%5B-40.12%2C%20-74.68%5D%2C%0A%20%20%20%20%20%20%20%20%20%20%20%20%20%20%20%20%7B%7D%0A%20%20%20%20%20%20%20%20%20%20%20%20%29.addTo%28map_f0ed86451b5240a9bcb5fed8985c8aeb%29%3B%0A%20%20%20%20%20%20%20%20%0A%20%20%20%20%0A%20%20%20%20%20%20%20%20var%20popup_cdda5255e6434059b7360778816e6ec2%20%3D%20L.popup%28%7B%22maxWidth%22%3A%20%22100%25%22%7D%29%3B%0A%0A%20%20%20%20%20%20%20%20%0A%20%20%20%20%20%20%20%20%20%20%20%20var%20html_e0861f3db48a4007a199a6b5accec697%20%3D%20%24%28%60%3Cdiv%20id%3D%22html_e0861f3db48a4007a199a6b5accec697%22%20style%3D%22width%3A%20100.0%25%3B%20height%3A%20100.0%25%3B%22%3EYear%3A%201967%20Magnitude%20Ms%3A%207.3%3C/div%3E%60%29%5B0%5D%3B%0A%20%20%20%20%20%20%20%20%20%20%20%20popup_cdda5255e6434059b7360778816e6ec2.setContent%28html_e0861f3db48a4007a199a6b5accec697%29%3B%0A%20%20%20%20%20%20%20%20%0A%0A%20%20%20%20%20%20%20%20marker_06a84ab3ca064d01848045545bf1f16c.bindPopup%28popup_cdda5255e6434059b7360778816e6ec2%29%0A%20%20%20%20%20%20%20%20%3B%0A%0A%20%20%20%20%20%20%20%20%0A%20%20%20%20%0A%20%20%20%20%0A%20%20%20%20%20%20%20%20%20%20%20%20var%20marker_21f990ffdec343d19b06cbdf38be7544%20%3D%20L.marker%28%0A%20%20%20%20%20%20%20%20%20%20%20%20%20%20%20%20%5B-21.8%2C%20-70.0%5D%2C%0A%20%20%20%20%20%20%20%20%20%20%20%20%20%20%20%20%7B%7D%0A%20%20%20%20%20%20%20%20%20%20%20%20%29.addTo%28map_f0ed86451b5240a9bcb5fed8985c8aeb%29%3B%0A%20%20%20%20%20%20%20%20%0A%20%20%20%20%0A%20%20%20%20%20%20%20%20var%20popup_dcb531aa427b49748c5e8d35ea52fa6a%20%3D%20L.popup%28%7B%22maxWidth%22%3A%20%22100%25%22%7D%29%3B%0A%0A%20%20%20%20%20%20%20%20%0A%20%20%20%20%20%20%20%20%20%20%20%20var%20html_8d0fb38cc60c41ee817aa297381018da%20%3D%20%24%28%60%3Cdiv%20id%3D%22html_8d0fb38cc60c41ee817aa297381018da%22%20style%3D%22width%3A%20100.0%25%3B%20height%3A%20100.0%25%3B%22%3EYear%3A%201967%20Magnitude%20Ms%3A%207.5%3C/div%3E%60%29%5B0%5D%3B%0A%20%20%20%20%20%20%20%20%20%20%20%20popup_dcb531aa427b49748c5e8d35ea52fa6a.setContent%28html_8d0fb38cc60c41ee817aa297381018da%29%3B%0A%20%20%20%20%20%20%20%20%0A%0A%20%20%20%20%20%20%20%20marker_21f990ffdec343d19b06cbdf38be7544.bindPopup%28popup_dcb531aa427b49748c5e8d35ea52fa6a%29%0A%20%20%20%20%20%20%20%20%3B%0A%0A%20%20%20%20%20%20%20%20%0A%20%20%20%20%0A%20%20%20%20%0A%20%20%20%20%20%20%20%20%20%20%20%20var%20marker_291e748f242d4ab1bee8e589821f6635%20%3D%20L.marker%28%0A%20%20%20%20%20%20%20%20%20%20%20%20%20%20%20%20%5B-25.402%2C%20-69.058%5D%2C%0A%20%20%20%20%20%20%20%20%20%20%20%20%20%20%20%20%7B%7D%0A%20%20%20%20%20%20%20%20%20%20%20%20%29.addTo%28map_f0ed86451b5240a9bcb5fed8985c8aeb%29%3B%0A%20%20%20%20%20%20%20%20%0A%20%20%20%20%0A%20%20%20%20%20%20%20%20var%20popup_fcc34976a2c34a4f972a6baa14ed55db%20%3D%20L.popup%28%7B%22maxWidth%22%3A%20%22100%25%22%7D%29%3B%0A%0A%20%20%20%20%20%20%20%20%0A%20%20%20%20%20%20%20%20%20%20%20%20var%20html_bb7341998315472facff40d25e14f83b%20%3D%20%24%28%60%3Cdiv%20id%3D%22html_bb7341998315472facff40d25e14f83b%22%20style%3D%22width%3A%20100.0%25%3B%20height%3A%20100.0%25%3B%22%3EYear%3A%201971%20Magnitude%20Ms%3A%207.0%3C/div%3E%60%29%5B0%5D%3B%0A%20%20%20%20%20%20%20%20%20%20%20%20popup_fcc34976a2c34a4f972a6baa14ed55db.setContent%28html_bb7341998315472facff40d25e14f83b%29%3B%0A%20%20%20%20%20%20%20%20%0A%0A%20%20%20%20%20%20%20%20marker_291e748f242d4ab1bee8e589821f6635.bindPopup%28popup_fcc34976a2c34a4f972a6baa14ed55db%29%0A%20%20%20%20%20%20%20%20%3B%0A%0A%20%20%20%20%20%20%20%20%0A%20%20%20%20%0A%20%20%20%20%0A%20%20%20%20%20%20%20%20%20%20%20%20var%20marker_b849d99d9894448696a64e675ab29a2d%20%3D%20L.marker%28%0A%20%20%20%20%20%20%20%20%20%20%20%20%20%20%20%20%5B-32.511%2C%20-71.207%5D%2C%0A%20%20%20%20%20%20%20%20%20%20%20%20%20%20%20%20%7B%7D%0A%20%20%20%20%20%20%20%20%20%20%20%20%29.addTo%28map_f0ed86451b5240a9bcb5fed8985c8aeb%29%3B%0A%20%20%20%20%20%20%20%20%0A%20%20%20%20%0A%20%20%20%20%20%20%20%20var%20popup_40e22a33f78d4918bd4e002c79d6819d%20%3D%20L.popup%28%7B%22maxWidth%22%3A%20%22100%25%22%7D%29%3B%0A%0A%20%20%20%20%20%20%20%20%0A%20%20%20%20%20%20%20%20%20%20%20%20var%20html_409c5be99fbf48029b8aac294bb34cab%20%3D%20%24%28%60%3Cdiv%20id%3D%22html_409c5be99fbf48029b8aac294bb34cab%22%20style%3D%22width%3A%20100.0%25%3B%20height%3A%20100.0%25%3B%22%3EYear%3A%201971%20Magnitude%20Ms%3A%207.5%3C/div%3E%60%29%5B0%5D%3B%0A%20%20%20%20%20%20%20%20%20%20%20%20popup_40e22a33f78d4918bd4e002c79d6819d.setContent%28html_409c5be99fbf48029b8aac294bb34cab%29%3B%0A%20%20%20%20%20%20%20%20%0A%0A%20%20%20%20%20%20%20%20marker_b849d99d9894448696a64e675ab29a2d.bindPopup%28popup_40e22a33f78d4918bd4e002c79d6819d%29%0A%20%20%20%20%20%20%20%20%3B%0A%0A%20%20%20%20%20%20%20%20%0A%20%20%20%20%0A%20%20%20%20%0A%20%20%20%20%20%20%20%20%20%20%20%20var%20marker_3a9257d6d8b44eaabdd2637879a05008%20%3D%20L.marker%28%0A%20%20%20%20%20%20%20%20%20%20%20%20%20%20%20%20%5B-38.453%2C%20-73.431%5D%2C%0A%20%20%20%20%20%20%20%20%20%20%20%20%20%20%20%20%7B%7D%0A%20%20%20%20%20%20%20%20%20%20%20%20%29.addTo%28map_f0ed86451b5240a9bcb5fed8985c8aeb%29%3B%0A%20%20%20%20%20%20%20%20%0A%20%20%20%20%0A%20%20%20%20%20%20%20%20var%20popup_a7beee945829403fb74b316c519d09a4%20%3D%20L.popup%28%7B%22maxWidth%22%3A%20%22100%25%22%7D%29%3B%0A%0A%20%20%20%20%20%20%20%20%0A%20%20%20%20%20%20%20%20%20%20%20%20var%20html_2e3d53b42fd343e494990d6e7e17f7b2%20%3D%20%24%28%60%3Cdiv%20id%3D%22html_2e3d53b42fd343e494990d6e7e17f7b2%22%20style%3D%22width%3A%20100.0%25%3B%20height%3A%20100.0%25%3B%22%3EYear%3A%201974%20Magnitude%20Ms%3A%207.1%3C/div%3E%60%29%5B0%5D%3B%0A%20%20%20%20%20%20%20%20%20%20%20%20popup_a7beee945829403fb74b316c519d09a4.setContent%28html_2e3d53b42fd343e494990d6e7e17f7b2%29%3B%0A%20%20%20%20%20%20%20%20%0A%0A%20%20%20%20%20%20%20%20marker_3a9257d6d8b44eaabdd2637879a05008.bindPopup%28popup_a7beee945829403fb74b316c519d09a4%29%0A%20%20%20%20%20%20%20%20%3B%0A%0A%20%20%20%20%20%20%20%20%0A%20%20%20%20%0A%20%20%20%20%0A%20%20%20%20%20%20%20%20%20%20%20%20var%20marker_f0a6047d76e94fb5aa0664fafe03a5cc%20%3D%20L.marker%28%0A%20%20%20%20%20%20%20%20%20%20%20%20%20%20%20%20%5B-38.183%2C%20-73.232%5D%2C%0A%20%20%20%20%20%20%20%20%20%20%20%20%20%20%20%20%7B%7D%0A%20%20%20%20%20%20%20%20%20%20%20%20%29.addTo%28map_f0ed86451b5240a9bcb5fed8985c8aeb%29%3B%0A%20%20%20%20%20%20%20%20%0A%20%20%20%20%0A%20%20%20%20%20%20%20%20var%20popup_ca32f29106ba41d28749c74850fe91f0%20%3D%20L.popup%28%7B%22maxWidth%22%3A%20%22100%25%22%7D%29%3B%0A%0A%20%20%20%20%20%20%20%20%0A%20%20%20%20%20%20%20%20%20%20%20%20var%20html_9da14397202f4b60865475bc04113276%20%3D%20%24%28%60%3Cdiv%20id%3D%22html_9da14397202f4b60865475bc04113276%22%20style%3D%22width%3A%20100.0%25%3B%20height%3A%20100.0%25%3B%22%3EYear%3A%201975%20Magnitude%20Ms%3A%207.7%3C/div%3E%60%29%5B0%5D%3B%0A%20%20%20%20%20%20%20%20%20%20%20%20popup_ca32f29106ba41d28749c74850fe91f0.setContent%28html_9da14397202f4b60865475bc04113276%29%3B%0A%20%20%20%20%20%20%20%20%0A%0A%20%20%20%20%20%20%20%20marker_f0a6047d76e94fb5aa0664fafe03a5cc.bindPopup%28popup_ca32f29106ba41d28749c74850fe91f0%29%0A%20%20%20%20%20%20%20%20%3B%0A%0A%20%20%20%20%20%20%20%20%0A%20%20%20%20%0A%20%20%20%20%0A%20%20%20%20%20%20%20%20%20%20%20%20var%20marker_a1b0f018d5f946dc92a2c2eda05dc063%20%3D%20L.marker%28%0A%20%20%20%20%20%20%20%20%20%20%20%20%20%20%20%20%5B-20.52%2C%20-68.919%5D%2C%0A%20%20%20%20%20%20%20%20%20%20%20%20%20%20%20%20%7B%7D%0A%20%20%20%20%20%20%20%20%20%20%20%20%29.addTo%28map_f0ed86451b5240a9bcb5fed8985c8aeb%29%3B%0A%20%20%20%20%20%20%20%20%0A%20%20%20%20%0A%20%20%20%20%20%20%20%20var%20popup_29a79f93a5f745f2b31c9be25fd20b6f%20%3D%20L.popup%28%7B%22maxWidth%22%3A%20%22100%25%22%7D%29%3B%0A%0A%20%20%20%20%20%20%20%20%0A%20%20%20%20%20%20%20%20%20%20%20%20var%20html_670d92c1c17143739d1dca5d46e72fe5%20%3D%20%24%28%60%3Cdiv%20id%3D%22html_670d92c1c17143739d1dca5d46e72fe5%22%20style%3D%22width%3A%20100.0%25%3B%20height%3A%20100.0%25%3B%22%3EYear%3A%201976%20Magnitude%20Ms%3A%207.3%3C/div%3E%60%29%5B0%5D%3B%0A%20%20%20%20%20%20%20%20%20%20%20%20popup_29a79f93a5f745f2b31c9be25fd20b6f.setContent%28html_670d92c1c17143739d1dca5d46e72fe5%29%3B%0A%20%20%20%20%20%20%20%20%0A%0A%20%20%20%20%20%20%20%20marker_a1b0f018d5f946dc92a2c2eda05dc063.bindPopup%28popup_29a79f93a5f745f2b31c9be25fd20b6f%29%0A%20%20%20%20%20%20%20%20%3B%0A%0A%20%20%20%20%20%20%20%20%0A%20%20%20%20%0A%20%20%20%20%0A%20%20%20%20%20%20%20%20%20%20%20%20var%20marker_e9de98280c974444a64e93251667c684%20%3D%20L.marker%28%0A%20%20%20%20%20%20%20%20%20%20%20%20%20%20%20%20%5B-26.518%2C%20-70.664%5D%2C%0A%20%20%20%20%20%20%20%20%20%20%20%20%20%20%20%20%7B%7D%0A%20%20%20%20%20%20%20%20%20%20%20%20%29.addTo%28map_f0ed86451b5240a9bcb5fed8985c8aeb%29%3B%0A%20%20%20%20%20%20%20%20%0A%20%20%20%20%0A%20%20%20%20%20%20%20%20var%20popup_f33e17e257a04414a9040200e0fe6c89%20%3D%20L.popup%28%7B%22maxWidth%22%3A%20%22100%25%22%7D%29%3B%0A%0A%20%20%20%20%20%20%20%20%0A%20%20%20%20%20%20%20%20%20%20%20%20var%20html_b4d334af673947ddb9510dfae24db7ea%20%3D%20%24%28%60%3Cdiv%20id%3D%22html_b4d334af673947ddb9510dfae24db7ea%22%20style%3D%22width%3A%20100.0%25%3B%20height%3A%20100.0%25%3B%22%3EYear%3A%201978%20Magnitude%20Ms%3A%207.0%3C/div%3E%60%29%5B0%5D%3B%0A%20%20%20%20%20%20%20%20%20%20%20%20popup_f33e17e257a04414a9040200e0fe6c89.setContent%28html_b4d334af673947ddb9510dfae24db7ea%29%3B%0A%20%20%20%20%20%20%20%20%0A%0A%20%20%20%20%20%20%20%20marker_e9de98280c974444a64e93251667c684.bindPopup%28popup_f33e17e257a04414a9040200e0fe6c89%29%0A%20%20%20%20%20%20%20%20%3B%0A%0A%20%20%20%20%20%20%20%20%0A%20%20%20%20%0A%20%20%20%20%0A%20%20%20%20%20%20%20%20%20%20%20%20var%20marker_f2741c4f19c948d89055545fff6e7ee2%20%3D%20L.marker%28%0A%20%20%20%20%20%20%20%20%20%20%20%20%20%20%20%20%5B-33.134%2C%20-73.074%5D%2C%0A%20%20%20%20%20%20%20%20%20%20%20%20%20%20%20%20%7B%7D%0A%20%20%20%20%20%20%20%20%20%20%20%20%29.addTo%28map_f0ed86451b5240a9bcb5fed8985c8aeb%29%3B%0A%20%20%20%20%20%20%20%20%0A%20%20%20%20%0A%20%20%20%20%20%20%20%20var%20popup_da9a937d21534218a56dee99ff3aefb1%20%3D%20L.popup%28%7B%22maxWidth%22%3A%20%22100%25%22%7D%29%3B%0A%0A%20%20%20%20%20%20%20%20%0A%20%20%20%20%20%20%20%20%20%20%20%20var%20html_e306dd99c430455c8e07d87faf91cbf0%20%3D%20%24%28%60%3Cdiv%20id%3D%22html_e306dd99c430455c8e07d87faf91cbf0%22%20style%3D%22width%3A%20100.0%25%3B%20height%3A%20100.0%25%3B%22%3EYear%3A%201981%20Magnitude%20Ms%3A%207.5%3C/div%3E%60%29%5B0%5D%3B%0A%20%20%20%20%20%20%20%20%20%20%20%20popup_da9a937d21534218a56dee99ff3aefb1.setContent%28html_e306dd99c430455c8e07d87faf91cbf0%29%3B%0A%20%20%20%20%20%20%20%20%0A%0A%20%20%20%20%20%20%20%20marker_f2741c4f19c948d89055545fff6e7ee2.bindPopup%28popup_da9a937d21534218a56dee99ff3aefb1%29%0A%20%20%20%20%20%20%20%20%3B%0A%0A%20%20%20%20%20%20%20%20%0A%20%20%20%20%0A%20%20%20%20%0A%20%20%20%20%20%20%20%20%20%20%20%20var%20marker_586f5d4027624e12bdc7576a0f192434%20%3D%20L.marker%28%0A%20%20%20%20%20%20%20%20%20%20%20%20%20%20%20%20%5B-26.535%2C%20-70.563%5D%2C%0A%20%20%20%20%20%20%20%20%20%20%20%20%20%20%20%20%7B%7D%0A%20%20%20%20%20%20%20%20%20%20%20%20%29.addTo%28map_f0ed86451b5240a9bcb5fed8985c8aeb%29%3B%0A%20%20%20%20%20%20%20%20%0A%20%20%20%20%0A%20%20%20%20%20%20%20%20var%20popup_d799eb63aa614bceb03895f247bf9b7b%20%3D%20L.popup%28%7B%22maxWidth%22%3A%20%22100%25%22%7D%29%3B%0A%0A%20%20%20%20%20%20%20%20%0A%20%20%20%20%20%20%20%20%20%20%20%20var%20html_ebf2268383e741d990e9498663e3d8f0%20%3D%20%24%28%60%3Cdiv%20id%3D%22html_ebf2268383e741d990e9498663e3d8f0%22%20style%3D%22width%3A%20100.0%25%3B%20height%3A%20100.0%25%3B%22%3EYear%3A%201983%20Magnitude%20Ms%3A%207.3%3C/div%3E%60%29%5B0%5D%3B%0A%20%20%20%20%20%20%20%20%20%20%20%20popup_d799eb63aa614bceb03895f247bf9b7b.setContent%28html_ebf2268383e741d990e9498663e3d8f0%29%3B%0A%20%20%20%20%20%20%20%20%0A%0A%20%20%20%20%20%20%20%20marker_586f5d4027624e12bdc7576a0f192434.bindPopup%28popup_d799eb63aa614bceb03895f247bf9b7b%29%0A%20%20%20%20%20%20%20%20%3B%0A%0A%20%20%20%20%20%20%20%20%0A%20%20%20%20%0A%20%20%20%20%0A%20%20%20%20%20%20%20%20%20%20%20%20var%20marker_c4779922cf764683a428b6cc89226041%20%3D%20L.marker%28%0A%20%20%20%20%20%20%20%20%20%20%20%20%20%20%20%20%5B-33.24%2C%20-71.85%5D%2C%0A%20%20%20%20%20%20%20%20%20%20%20%20%20%20%20%20%7B%7D%0A%20%20%20%20%20%20%20%20%20%20%20%20%29.addTo%28map_f0ed86451b5240a9bcb5fed8985c8aeb%29%3B%0A%20%20%20%20%20%20%20%20%0A%20%20%20%20%0A%20%20%20%20%20%20%20%20var%20popup_f8cf99e047484f72b44b7505deb26dc4%20%3D%20L.popup%28%7B%22maxWidth%22%3A%20%22100%25%22%7D%29%3B%0A%0A%20%20%20%20%20%20%20%20%0A%20%20%20%20%20%20%20%20%20%20%20%20var%20html_98460cac2b0a421889e920ea13cc03b5%20%3D%20%24%28%60%3Cdiv%20id%3D%22html_98460cac2b0a421889e920ea13cc03b5%22%20style%3D%22width%3A%20100.0%25%3B%20height%3A%20100.0%25%3B%22%3EYear%3A%201985%20Magnitude%20Ms%3A%207.8%3C/div%3E%60%29%5B0%5D%3B%0A%20%20%20%20%20%20%20%20%20%20%20%20popup_f8cf99e047484f72b44b7505deb26dc4.setContent%28html_98460cac2b0a421889e920ea13cc03b5%29%3B%0A%20%20%20%20%20%20%20%20%0A%0A%20%20%20%20%20%20%20%20marker_c4779922cf764683a428b6cc89226041.bindPopup%28popup_f8cf99e047484f72b44b7505deb26dc4%29%0A%20%20%20%20%20%20%20%20%3B%0A%0A%20%20%20%20%20%20%20%20%0A%20%20%20%20%0A%20%20%20%20%0A%20%20%20%20%20%20%20%20%20%20%20%20var%20marker_2bb84c4913a34720996d6c7b346fcadc%20%3D%20L.marker%28%0A%20%20%20%20%20%20%20%20%20%20%20%20%20%20%20%20%5B-34.131%2C%20-71.618%5D%2C%0A%20%20%20%20%20%20%20%20%20%20%20%20%20%20%20%20%7B%7D%0A%20%20%20%20%20%20%20%20%20%20%20%20%29.addTo%28map_f0ed86451b5240a9bcb5fed8985c8aeb%29%3B%0A%20%20%20%20%20%20%20%20%0A%20%20%20%20%0A%20%20%20%20%20%20%20%20var%20popup_975b1596f11c4936963426f812359e98%20%3D%20L.popup%28%7B%22maxWidth%22%3A%20%22100%25%22%7D%29%3B%0A%0A%20%20%20%20%20%20%20%20%0A%20%20%20%20%20%20%20%20%20%20%20%20var%20html_5d9a37a7f97f43ad8f26b018fa1faa05%20%3D%20%24%28%60%3Cdiv%20id%3D%22html_5d9a37a7f97f43ad8f26b018fa1faa05%22%20style%3D%22width%3A%20100.0%25%3B%20height%3A%20100.0%25%3B%22%3EYear%3A%201985%20Magnitude%20Ms%3A%207.5%3C/div%3E%60%29%5B0%5D%3B%0A%20%20%20%20%20%20%20%20%20%20%20%20popup_975b1596f11c4936963426f812359e98.setContent%28html_5d9a37a7f97f43ad8f26b018fa1faa05%29%3B%0A%20%20%20%20%20%20%20%20%0A%0A%20%20%20%20%20%20%20%20marker_2bb84c4913a34720996d6c7b346fcadc.bindPopup%28popup_975b1596f11c4936963426f812359e98%29%0A%20%20%20%20%20%20%20%20%3B%0A%0A%20%20%20%20%20%20%20%20%0A%20%20%20%20%0A%20%20%20%20%0A%20%20%20%20%20%20%20%20%20%20%20%20var%20marker_cd36cb5f21994b1eb44a3468ba0ec817%20%3D%20L.marker%28%0A%20%20%20%20%20%20%20%20%20%20%20%20%20%20%20%20%5B-24.388%2C%20-70.161%5D%2C%0A%20%20%20%20%20%20%20%20%20%20%20%20%20%20%20%20%7B%7D%0A%20%20%20%20%20%20%20%20%20%20%20%20%29.addTo%28map_f0ed86451b5240a9bcb5fed8985c8aeb%29%3B%0A%20%20%20%20%20%20%20%20%0A%20%20%20%20%0A%20%20%20%20%20%20%20%20var%20popup_17824ad8020f40ffaeb4f7a5d6b28f46%20%3D%20L.popup%28%7B%22maxWidth%22%3A%20%22100%25%22%7D%29%3B%0A%0A%20%20%20%20%20%20%20%20%0A%20%20%20%20%20%20%20%20%20%20%20%20var%20html_08f08ffe78884ce6bab4837256213362%20%3D%20%24%28%60%3Cdiv%20id%3D%22html_08f08ffe78884ce6bab4837256213362%22%20style%3D%22width%3A%20100.0%25%3B%20height%3A%20100.0%25%3B%22%3EYear%3A%201987%20Magnitude%20Ms%3A%207.3%3C/div%3E%60%29%5B0%5D%3B%0A%20%20%20%20%20%20%20%20%20%20%20%20popup_17824ad8020f40ffaeb4f7a5d6b28f46.setContent%28html_08f08ffe78884ce6bab4837256213362%29%3B%0A%20%20%20%20%20%20%20%20%0A%0A%20%20%20%20%20%20%20%20marker_cd36cb5f21994b1eb44a3468ba0ec817.bindPopup%28popup_17824ad8020f40ffaeb4f7a5d6b28f46%29%0A%20%20%20%20%20%20%20%20%3B%0A%0A%20%20%20%20%20%20%20%20%0A%20%20%20%20%0A%20%20%20%20%0A%20%20%20%20%20%20%20%20%20%20%20%20var%20marker_58aab27be8df40be8baed49af7d59191%20%3D%20L.marker%28%0A%20%20%20%20%20%20%20%20%20%20%20%20%20%20%20%20%5B-19.0%2C%20-70.0%5D%2C%0A%20%20%20%20%20%20%20%20%20%20%20%20%20%20%20%20%7B%7D%0A%20%20%20%20%20%20%20%20%20%20%20%20%29.addTo%28map_f0ed86451b5240a9bcb5fed8985c8aeb%29%3B%0A%20%20%20%20%20%20%20%20%0A%20%20%20%20%0A%20%20%20%20%20%20%20%20var%20popup_519410f6ec3d4feca35c54300ba22c68%20%3D%20L.popup%28%7B%22maxWidth%22%3A%20%22100%25%22%7D%29%3B%0A%0A%20%20%20%20%20%20%20%20%0A%20%20%20%20%20%20%20%20%20%20%20%20var%20html_2ab9425c5e264ceda4d15dc849632454%20%3D%20%24%28%60%3Cdiv%20id%3D%22html_2ab9425c5e264ceda4d15dc849632454%22%20style%3D%22width%3A%20100.0%25%3B%20height%3A%20100.0%25%3B%22%3EYear%3A%201987%20Magnitude%20Ms%3A%207.1%3C/div%3E%60%29%5B0%5D%3B%0A%20%20%20%20%20%20%20%20%20%20%20%20popup_519410f6ec3d4feca35c54300ba22c68.setContent%28html_2ab9425c5e264ceda4d15dc849632454%29%3B%0A%20%20%20%20%20%20%20%20%0A%0A%20%20%20%20%20%20%20%20marker_58aab27be8df40be8baed49af7d59191.bindPopup%28popup_519410f6ec3d4feca35c54300ba22c68%29%0A%20%20%20%20%20%20%20%20%3B%0A%0A%20%20%20%20%20%20%20%20%0A%20%20%20%20%0A%20%20%20%20%0A%20%20%20%20%20%20%20%20%20%20%20%20var%20marker_5185f508ee094b0d8d19656535f1ad5d%20%3D%20L.marker%28%0A%20%20%20%20%20%20%20%20%20%20%20%20%20%20%20%20%5B-23.36%2C%20-70.31%5D%2C%0A%20%20%20%20%20%20%20%20%20%20%20%20%20%20%20%20%7B%7D%0A%20%20%20%20%20%20%20%20%20%20%20%20%29.addTo%28map_f0ed86451b5240a9bcb5fed8985c8aeb%29%3B%0A%20%20%20%20%20%20%20%20%0A%20%20%20%20%0A%20%20%20%20%20%20%20%20var%20popup_6983c88c3f9e44328f5e33d7b1ac3943%20%3D%20L.popup%28%7B%22maxWidth%22%3A%20%22100%25%22%7D%29%3B%0A%0A%20%20%20%20%20%20%20%20%0A%20%20%20%20%20%20%20%20%20%20%20%20var%20html_6dc66cfee9d34440bc398db5eae76fbc%20%3D%20%24%28%60%3Cdiv%20id%3D%22html_6dc66cfee9d34440bc398db5eae76fbc%22%20style%3D%22width%3A%20100.0%25%3B%20height%3A%20100.0%25%3B%22%3EYear%3A%201995%20Magnitude%20Ms%3A%207.3%3C/div%3E%60%29%5B0%5D%3B%0A%20%20%20%20%20%20%20%20%20%20%20%20popup_6983c88c3f9e44328f5e33d7b1ac3943.setContent%28html_6dc66cfee9d34440bc398db5eae76fbc%29%3B%0A%20%20%20%20%20%20%20%20%0A%0A%20%20%20%20%20%20%20%20marker_5185f508ee094b0d8d19656535f1ad5d.bindPopup%28popup_6983c88c3f9e44328f5e33d7b1ac3943%29%0A%20%20%20%20%20%20%20%20%3B%0A%0A%20%20%20%20%20%20%20%20%0A%20%20%20%20%0A%20%20%20%20%0A%20%20%20%20%20%20%20%20%20%20%20%20var%20marker_1d83c8bd127e4d43997c60649e0d2094%20%3D%20L.marker%28%0A%20%20%20%20%20%20%20%20%20%20%20%20%20%20%20%20%5B-19.895%2C%20-69.125%5D%2C%0A%20%20%20%20%20%20%20%20%20%20%20%20%20%20%20%20%7B%7D%0A%20%20%20%20%20%20%20%20%20%20%20%20%29.addTo%28map_f0ed86451b5240a9bcb5fed8985c8aeb%29%3B%0A%20%20%20%20%20%20%20%20%0A%20%20%20%20%0A%20%20%20%20%20%20%20%20var%20popup_262c5e2e28df4078bb6c6acf97d30509%20%3D%20L.popup%28%7B%22maxWidth%22%3A%20%22100%25%22%7D%29%3B%0A%0A%20%20%20%20%20%20%20%20%0A%20%20%20%20%20%20%20%20%20%20%20%20var%20html_20e93f25c6de45cd97a0f8bb81a95645%20%3D%20%24%28%60%3Cdiv%20id%3D%22html_20e93f25c6de45cd97a0f8bb81a95645%22%20style%3D%22width%3A%20100.0%25%3B%20height%3A%20100.0%25%3B%22%3EYear%3A%202005%20Magnitude%20Ms%3A%207.8%3C/div%3E%60%29%5B0%5D%3B%0A%20%20%20%20%20%20%20%20%20%20%20%20popup_262c5e2e28df4078bb6c6acf97d30509.setContent%28html_20e93f25c6de45cd97a0f8bb81a95645%29%3B%0A%20%20%20%20%20%20%20%20%0A%0A%20%20%20%20%20%20%20%20marker_1d83c8bd127e4d43997c60649e0d2094.bindPopup%28popup_262c5e2e28df4078bb6c6acf97d30509%29%0A%20%20%20%20%20%20%20%20%3B%0A%0A%20%20%20%20%20%20%20%20%0A%20%20%20%20%0A%20%20%20%20%0A%20%20%20%20%20%20%20%20%20%20%20%20var%20marker_5d5035fa56f84352bc50fbac22830199%20%3D%20L.marker%28%0A%20%20%20%20%20%20%20%20%20%20%20%20%20%20%20%20%5B-22.314%2C%20-70.078%5D%2C%0A%20%20%20%20%20%20%20%20%20%20%20%20%20%20%20%20%7B%7D%0A%20%20%20%20%20%20%20%20%20%20%20%20%29.addTo%28map_f0ed86451b5240a9bcb5fed8985c8aeb%29%3B%0A%20%20%20%20%20%20%20%20%0A%20%20%20%20%0A%20%20%20%20%20%20%20%20var%20popup_d9eeac809b4a41e4bcf84d3478a484dc%20%3D%20L.popup%28%7B%22maxWidth%22%3A%20%22100%25%22%7D%29%3B%0A%0A%20%20%20%20%20%20%20%20%0A%20%20%20%20%20%20%20%20%20%20%20%20var%20html_94712dd7b058458b9ea12626fd4c72d6%20%3D%20%24%28%60%3Cdiv%20id%3D%22html_94712dd7b058458b9ea12626fd4c72d6%22%20style%3D%22width%3A%20100.0%25%3B%20height%3A%20100.0%25%3B%22%3EYear%3A%202007%20Magnitude%20Ms%3A%207.5%3C/div%3E%60%29%5B0%5D%3B%0A%20%20%20%20%20%20%20%20%20%20%20%20popup_d9eeac809b4a41e4bcf84d3478a484dc.setContent%28html_94712dd7b058458b9ea12626fd4c72d6%29%3B%0A%20%20%20%20%20%20%20%20%0A%0A%20%20%20%20%20%20%20%20marker_5d5035fa56f84352bc50fbac22830199.bindPopup%28popup_d9eeac809b4a41e4bcf84d3478a484dc%29%0A%20%20%20%20%20%20%20%20%3B%0A%0A%20%20%20%20%20%20%20%20%0A%20%20%20%20%0A%3C/script%3E onload=\"this.contentDocument.open();this.contentDocument.write(    decodeURIComponent(this.getAttribute('data-html')));this.contentDocument.close();\" allowfullscreen webkitallowfullscreen mozallowfullscreen></iframe></div></div>"
      ],
      "text/plain": [
       "<folium.folium.Map at 0x13d957410>"
      ]
     },
     "execution_count": 256,
     "metadata": {},
     "output_type": "execute_result"
    }
   ],
   "source": [
    "import folium\n",
    "\n",
    "events_locations = df[(df['year'] > 1950) & ~(df['mag_ms'].isna())][['latitude','longitude','mag_ms','year']]\n",
    "\n",
    "map = folium.Map(location=[events_locations.latitude.mean(), events_locations.longitude.mean()],\\\n",
    "                 zoom_start=4, control_scale=True, tiles=\"Stamen Terrain\")\n",
    "\n",
    "\n",
    "for index, location_info in events_locations.iterrows():\n",
    "    popup_text = 'Year: '+str(int(location_info['year'])) +'\\nMagnitude Ms: '+str(location_info['mag_ms'])\n",
    "    folium.Marker([location_info[\"latitude\"], location_info[\"longitude\"]],\\\n",
    "                 popup=popup_text).add_to(map)\n",
    "    \n",
    "map"
   ]
  },
  {
   "cell_type": "markdown",
   "metadata": {},
   "source": [
    "Finally, just out of curiosity, let us see all the major events in 1960, the year of the biggest recorded earthquake in history, which nearly destroyed the city of Valdivia in the south of Chile."
   ]
  },
  {
   "cell_type": "code",
   "execution_count": 60,
   "metadata": {},
   "outputs": [
    {
     "data": {
      "text/html": [
       "<div>\n",
       "<style scoped>\n",
       "    .dataframe tbody tr th:only-of-type {\n",
       "        vertical-align: middle;\n",
       "    }\n",
       "\n",
       "    .dataframe tbody tr th {\n",
       "        vertical-align: top;\n",
       "    }\n",
       "\n",
       "    .dataframe thead th {\n",
       "        text-align: right;\n",
       "    }\n",
       "</style>\n",
       "<table border=\"1\" class=\"dataframe\">\n",
       "  <thead>\n",
       "    <tr style=\"text-align: right;\">\n",
       "      <th></th>\n",
       "      <th>date</th>\n",
       "      <th>time</th>\n",
       "      <th>latitude</th>\n",
       "      <th>longitude</th>\n",
       "      <th>mag_ms</th>\n",
       "      <th>mag_mw</th>\n",
       "      <th>depth_km</th>\n",
       "      <th>effect</th>\n",
       "      <th>year</th>\n",
       "      <th>month</th>\n",
       "      <th>day</th>\n",
       "    </tr>\n",
       "  </thead>\n",
       "  <tbody>\n",
       "    <tr>\n",
       "      <th>80</th>\n",
       "      <td>21/05/1960</td>\n",
       "      <td>6:02</td>\n",
       "      <td>-37.5</td>\n",
       "      <td>-73.5</td>\n",
       "      <td>7.3</td>\n",
       "      <td>NaN</td>\n",
       "      <td>NaN</td>\n",
       "      <td>NaN</td>\n",
       "      <td>1960</td>\n",
       "      <td>5</td>\n",
       "      <td>21</td>\n",
       "    </tr>\n",
       "    <tr>\n",
       "      <th>81</th>\n",
       "      <td>22/05/1960</td>\n",
       "      <td>6:32</td>\n",
       "      <td>-37.5</td>\n",
       "      <td>-73.0</td>\n",
       "      <td>7.3</td>\n",
       "      <td>NaN</td>\n",
       "      <td>NaN</td>\n",
       "      <td>NaN</td>\n",
       "      <td>1960</td>\n",
       "      <td>5</td>\n",
       "      <td>22</td>\n",
       "    </tr>\n",
       "    <tr>\n",
       "      <th>82</th>\n",
       "      <td>22/05/1960</td>\n",
       "      <td>15:11</td>\n",
       "      <td>-39.5</td>\n",
       "      <td>-74.5</td>\n",
       "      <td>8.5</td>\n",
       "      <td>9.5</td>\n",
       "      <td>NaN</td>\n",
       "      <td>TD</td>\n",
       "      <td>1960</td>\n",
       "      <td>5</td>\n",
       "      <td>22</td>\n",
       "    </tr>\n",
       "    <tr>\n",
       "      <th>83</th>\n",
       "      <td>19/06/1960</td>\n",
       "      <td>22:01</td>\n",
       "      <td>-38.0</td>\n",
       "      <td>-73.5</td>\n",
       "      <td>7.3</td>\n",
       "      <td>NaN</td>\n",
       "      <td>NaN</td>\n",
       "      <td>NaN</td>\n",
       "      <td>1960</td>\n",
       "      <td>6</td>\n",
       "      <td>19</td>\n",
       "    </tr>\n",
       "    <tr>\n",
       "      <th>84</th>\n",
       "      <td>01/11/1960</td>\n",
       "      <td>4:45</td>\n",
       "      <td>-38.5</td>\n",
       "      <td>-75.1</td>\n",
       "      <td>7.4</td>\n",
       "      <td>NaN</td>\n",
       "      <td>55.0</td>\n",
       "      <td>NaN</td>\n",
       "      <td>1960</td>\n",
       "      <td>11</td>\n",
       "      <td>1</td>\n",
       "    </tr>\n",
       "  </tbody>\n",
       "</table>\n",
       "</div>"
      ],
      "text/plain": [
       "          date   time  latitude  longitude  mag_ms  mag_mw  depth_km effect  \\\n",
       "80  21/05/1960   6:02     -37.5      -73.5     7.3     NaN       NaN    NaN   \n",
       "81  22/05/1960   6:32     -37.5      -73.0     7.3     NaN       NaN    NaN   \n",
       "82  22/05/1960  15:11     -39.5      -74.5     8.5     9.5       NaN     TD   \n",
       "83  19/06/1960  22:01     -38.0      -73.5     7.3     NaN       NaN    NaN   \n",
       "84  01/11/1960   4:45     -38.5      -75.1     7.4     NaN      55.0    NaN   \n",
       "\n",
       "    year  month  day  \n",
       "80  1960      5   21  \n",
       "81  1960      5   22  \n",
       "82  1960      5   22  \n",
       "83  1960      6   19  \n",
       "84  1960     11    1  "
      ]
     },
     "execution_count": 60,
     "metadata": {},
     "output_type": "execute_result"
    }
   ],
   "source": [
    "df_clean[df_clean['year'] == 1960]"
   ]
  },
  {
   "cell_type": "markdown",
   "metadata": {},
   "source": [
    "In the span of two days, there were 3 major events with magnitude Ms higher than 7.0! The major one had a magnitude of 8.5 and a historical reconstruction of the event estimates a magnitude Mw of 9.5, the highest ever in the recorded history."
   ]
  },
  {
   "cell_type": "markdown",
   "metadata": {
    "tags": []
   },
   "source": [
    "## Next Steps"
   ]
  },
  {
   "cell_type": "markdown",
   "metadata": {},
   "source": [
    "* Do a more detailed statistical analysis oof the \n",
    "* Check the Gutenber-Ritcher (Log(number of events per century) vs. magnitude) and Utsu-Omori laws (distribution of replicas with time).\n",
    "* Can we find correlations between these events and other geophysical data like volcano eruptions?\n",
    "* Explore other datasets with a larger quantity of events.\n",
    "* Try to predict earthquakes from seismograph data."
   ]
  },
  {
   "cell_type": "code",
   "execution_count": null,
   "metadata": {},
   "outputs": [],
   "source": []
  }
 ],
 "metadata": {
  "kernelspec": {
   "display_name": "Python 3 (ipykernel)",
   "language": "python",
   "name": "python3"
  },
  "language_info": {
   "codemirror_mode": {
    "name": "ipython",
    "version": 3
   },
   "file_extension": ".py",
   "mimetype": "text/x-python",
   "name": "python",
   "nbconvert_exporter": "python",
   "pygments_lexer": "ipython3",
   "version": "3.7.10"
  },
  "toc-autonumbering": false,
  "toc-showmarkdowntxt": false
 },
 "nbformat": 4,
 "nbformat_minor": 4
}
